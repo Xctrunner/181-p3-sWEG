{
 "cells": [
  {
   "cell_type": "code",
   "execution_count": 16,
   "metadata": {
    "collapsed": true,
    "deletable": true,
    "editable": true
   },
   "outputs": [],
   "source": [
    "import numpy as np"
   ]
  },
  {
   "cell_type": "code",
   "execution_count": 17,
   "metadata": {
    "collapsed": false,
    "deletable": true,
    "editable": true
   },
   "outputs": [
    {
     "name": "stdout",
     "output_type": "stream",
     "text": [
      "[['03098741-08b3-4dd7-b3f6-1b0bfa2c879c' 'Liars']\n",
      " ['69c4cc43-8163-41c5-ac81-30946d27bb69' 'CunninLynguists']\n",
      " ['7a2e6b55-f149-4e74-be6a-30a1b1a387bb' 'The Desert Sessions']\n",
      " ..., \n",
      " ['8974da95-e631-45aa-8fd7-aa0c2795f997' 'Harry Gregson-Williams']\n",
      " ['8067c102-4996-42bc-9980-06ce2e644eae' 'Soul Coughing']\n",
      " ['39c2a93d-9afa-4a22-9bba-c087ab056e1c' 'Jefferson Airplane']]\n",
      "(233286, 4)\n"
     ]
    }
   ],
   "source": [
    "# relies on chopping off column headers ahead of time. \n",
    "artists = np.loadtxt('data/artists.csv', dtype='string', delimiter=',')\n",
    "print artists\n",
    "profiles = np.loadtxt('data/profiles_fixed.csv', dtype='string', delimiter=',')\n",
    "print profiles.shape\n",
    "\n",
    "# fixing erroneous, irrelevant ages like 1002\n",
    "max_age = 120\n",
    "# total = 0\n",
    "# count = 0\n",
    "for p in profiles:\n",
    "    if p[2] != '' and (int(p[2]) >= max_age or int(p[2]) < 0):\n",
    "        # 22 is the average age of those who put down ages within a reasonable range\n",
    "        p[2] = '22'\n",
    "#     if p[2] != '':\n",
    "#         total += int(p[2])\n",
    "#         count += 1\n",
    "# print float(total) / count"
   ]
  },
  {
   "cell_type": "code",
   "execution_count": 18,
   "metadata": {
    "collapsed": true,
    "deletable": true,
    "editable": true
   },
   "outputs": [],
   "source": [
    "art_dict = {}\n",
    "count = 0\n",
    "for a in artists:\n",
    "    art_dict[a[0]] = count\n",
    "    count += 1\n",
    "# print art_dict\n",
    "prof_dict = {}\n",
    "count = 0\n",
    "for a in profiles:\n",
    "    prof_dict[a[0]] = count\n",
    "    count += 1"
   ]
  },
  {
   "cell_type": "code",
   "execution_count": 19,
   "metadata": {
    "collapsed": true,
    "deletable": true,
    "editable": true
   },
   "outputs": [],
   "source": [
    "nation_dict = {}\n",
    "count = 0\n",
    "for p in profiles:\n",
    "    if p[3] not in nation_dict:\n",
    "        nation_dict[p[3]] = None\n",
    "num_nations = len(nation_dict)\n",
    "count = 0\n",
    "for key in nation_dict.keys():\n",
    "    nation_dict[key] = np.zeros(num_nations)\n",
    "    nation_dict[key][count] = 1\n",
    "    count += 1"
   ]
  },
  {
   "cell_type": "code",
   "execution_count": 20,
   "metadata": {
    "collapsed": false,
    "deletable": true,
    "editable": true
   },
   "outputs": [
    {
     "name": "stdout",
     "output_type": "stream",
     "text": [
      "(4154804, 3)\n"
     ]
    }
   ],
   "source": [
    "train = np.loadtxt('data/train_fixed.csv', dtype='string', delimiter=',')\n",
    "print train.shape"
   ]
  },
  {
   "cell_type": "code",
   "execution_count": 21,
   "metadata": {
    "collapsed": false,
    "deletable": true,
    "editable": true
   },
   "outputs": [],
   "source": [
    "art_counts = np.zeros((artists.shape[0], 3 + max_age + 1 + len(nation_dict)))\n",
    "artist_counts = [0] * 2000\n",
    "# count = 0\n",
    "for t in train:\n",
    "    \n",
    "    artist = art_dict[t[1]]\n",
    "    \n",
    "    p = prof_dict[t[0]]\n",
    "    \n",
    "    one_hot_gender = np.zeros(3)\n",
    "    if profiles[p][1] == 'f':\n",
    "        one_hot_gender[0] = 1\n",
    "    elif profiles[p][1] == 'm':\n",
    "        one_hot_gender[1] = 1\n",
    "    else:\n",
    "        one_hot_gender[2] = 1\n",
    "\n",
    "    one_hot_age = np.zeros(max_age + 1)\n",
    "    if profiles[p][2] == '':\n",
    "        one_hot_age[max_age] = 1\n",
    "    else:\n",
    "        one_hot_age[int(profiles[p][2])] = 1\n",
    "        \n",
    "    one_hot_nation = nation_dict[profiles[p][3]]\n",
    "    \n",
    "    user_info = np.concatenate((one_hot_gender, one_hot_age, one_hot_nation))\n",
    "    \n",
    "    art_counts[artist] += user_info\n",
    "    artist_counts[artist] += 1\n",
    "#     count += 1\n"
   ]
  },
  {
   "cell_type": "code",
   "execution_count": 22,
   "metadata": {
    "collapsed": false,
    "deletable": true,
    "editable": true
   },
   "outputs": [
    {
     "name": "stdout",
     "output_type": "stream",
     "text": [
      "[  6.04000000e+02   1.52600000e+03   1.93000000e+02   0.00000000e+00\n",
      "   3.00000000e+00   2.00000000e+00   0.00000000e+00   0.00000000e+00\n",
      "   0.00000000e+00   1.00000000e+00   0.00000000e+00   0.00000000e+00\n",
      "   0.00000000e+00   0.00000000e+00   0.00000000e+00   0.00000000e+00\n",
      "   3.00000000e+00   1.00000000e+00   1.50000000e+01   3.50000000e+01\n",
      "   8.50000000e+01   1.04000000e+02   1.74000000e+02   2.08000000e+02\n",
      "   1.68000000e+02   1.60000000e+02   1.45000000e+02   1.29000000e+02\n",
      "   9.20000000e+01   8.40000000e+01   7.90000000e+01   4.70000000e+01\n",
      "   3.60000000e+01   2.90000000e+01   3.20000000e+01   2.50000000e+01\n",
      "   2.20000000e+01   1.70000000e+01   1.10000000e+01   2.00000000e+01\n",
      "   6.00000000e+00   9.00000000e+00   1.30000000e+01   2.00000000e+00\n",
      "   8.00000000e+00   5.00000000e+00   3.00000000e+00   2.00000000e+00\n",
      "   5.00000000e+00   1.00000000e+00   9.00000000e+00   1.10000000e+01\n",
      "   6.00000000e+00   3.00000000e+00   3.00000000e+00   5.00000000e+00\n",
      "   5.00000000e+00   6.00000000e+00   4.00000000e+00   4.00000000e+00\n",
      "   7.00000000e+00   1.00000000e+00   1.00000000e+00   4.00000000e+00\n",
      "   5.00000000e+00   2.00000000e+00   0.00000000e+00   0.00000000e+00\n",
      "   2.00000000e+00   2.00000000e+00   0.00000000e+00   0.00000000e+00\n",
      "   1.00000000e+00   0.00000000e+00   0.00000000e+00   0.00000000e+00\n",
      "   0.00000000e+00   0.00000000e+00   0.00000000e+00   0.00000000e+00\n",
      "   0.00000000e+00   0.00000000e+00   0.00000000e+00   0.00000000e+00\n",
      "   0.00000000e+00   0.00000000e+00   0.00000000e+00   0.00000000e+00\n",
      "   0.00000000e+00   0.00000000e+00   0.00000000e+00   0.00000000e+00\n",
      "   0.00000000e+00   0.00000000e+00   0.00000000e+00   0.00000000e+00\n",
      "   0.00000000e+00   1.00000000e+00   0.00000000e+00   0.00000000e+00\n",
      "   0.00000000e+00   0.00000000e+00   0.00000000e+00   1.00000000e+00\n",
      "   0.00000000e+00   1.00000000e+00   1.00000000e+00   0.00000000e+00\n",
      "   0.00000000e+00   0.00000000e+00   0.00000000e+00   5.00000000e+00\n",
      "   4.00000000e+00   0.00000000e+00   0.00000000e+00   0.00000000e+00\n",
      "   0.00000000e+00   0.00000000e+00   0.00000000e+00   0.00000000e+00\n",
      "   0.00000000e+00   0.00000000e+00   0.00000000e+00   4.48000000e+02\n",
      "   2.90000000e+01   0.00000000e+00   0.00000000e+00   0.00000000e+00\n",
      "   1.00000000e+00   1.90000000e+01   0.00000000e+00   0.00000000e+00\n",
      "   1.00000000e+00   1.00000000e+00   0.00000000e+00   0.00000000e+00\n",
      "   2.20000000e+01   0.00000000e+00   0.00000000e+00   0.00000000e+00\n",
      "   0.00000000e+00   0.00000000e+00   0.00000000e+00   0.00000000e+00\n",
      "   1.00000000e+00   2.00000000e+00   1.40000000e+01   0.00000000e+00\n",
      "   2.00000000e+00   1.00000000e+00   1.69000000e+02   0.00000000e+00\n",
      "   6.80000000e+01   0.00000000e+00   6.10000000e+01   0.00000000e+00\n",
      "   0.00000000e+00   0.00000000e+00   2.00000000e+00   0.00000000e+00\n",
      "   1.00000000e+00   7.10000000e+01   0.00000000e+00   0.00000000e+00\n",
      "   0.00000000e+00   7.00000000e+00   0.00000000e+00   1.00000000e+00\n",
      "   2.00000000e+00   0.00000000e+00   0.00000000e+00   0.00000000e+00\n",
      "   0.00000000e+00   0.00000000e+00   2.00000000e+01   0.00000000e+00\n",
      "   0.00000000e+00   0.00000000e+00   1.00000000e+00   0.00000000e+00\n",
      "   0.00000000e+00   0.00000000e+00   1.02000000e+02   1.00000000e+00\n",
      "   2.90000000e+01   0.00000000e+00   0.00000000e+00   0.00000000e+00\n",
      "   0.00000000e+00   0.00000000e+00   0.00000000e+00   6.20000000e+01\n",
      "   0.00000000e+00   0.00000000e+00   8.00000000e+00   1.00000000e+00\n",
      "   5.00000000e+00   0.00000000e+00   0.00000000e+00   0.00000000e+00\n",
      "   5.20000000e+01   0.00000000e+00   0.00000000e+00   0.00000000e+00\n",
      "   1.00000000e+00   3.00000000e+00   1.00000000e+00   0.00000000e+00\n",
      "   0.00000000e+00   1.00000000e+00   3.00000000e+00   0.00000000e+00\n",
      "   0.00000000e+00   0.00000000e+00   2.80000000e+01   0.00000000e+00\n",
      "   0.00000000e+00   0.00000000e+00   0.00000000e+00   3.00000000e+00\n",
      "   0.00000000e+00   3.51000000e+02   0.00000000e+00   1.25000000e+02\n",
      "   1.20000000e+01   0.00000000e+00   0.00000000e+00   0.00000000e+00\n",
      "   8.00000000e+00   1.00000000e+00   2.70000000e+01   0.00000000e+00\n",
      "   0.00000000e+00   0.00000000e+00   5.00000000e+00   0.00000000e+00\n",
      "   0.00000000e+00   1.00000000e+00   0.00000000e+00   0.00000000e+00\n",
      "   2.00000000e+00   2.10000000e+01   0.00000000e+00   0.00000000e+00\n",
      "   7.00000000e+00   0.00000000e+00   9.70000000e+01   1.00000000e+00\n",
      "   1.00000000e+00   0.00000000e+00   0.00000000e+00   0.00000000e+00\n",
      "   0.00000000e+00   0.00000000e+00   1.00000000e+00   0.00000000e+00\n",
      "   1.10000000e+01   0.00000000e+00   0.00000000e+00   1.00000000e+00\n",
      "   1.00000000e+00   2.90000000e+01   0.00000000e+00   0.00000000e+00\n",
      "   0.00000000e+00   1.00000000e+00   0.00000000e+00   0.00000000e+00\n",
      "   1.00000000e+01   0.00000000e+00   3.10000000e+01   0.00000000e+00\n",
      "   0.00000000e+00   0.00000000e+00   2.00000000e+00   0.00000000e+00\n",
      "   0.00000000e+00   5.00000000e+00   0.00000000e+00   1.30000000e+01\n",
      "   0.00000000e+00   0.00000000e+00   1.00000000e+00   0.00000000e+00\n",
      "   0.00000000e+00   2.70000000e+01   0.00000000e+00   0.00000000e+00\n",
      "   0.00000000e+00   2.20000000e+01   0.00000000e+00   1.00000000e+00\n",
      "   2.70000000e+01   1.00000000e+01   4.00000000e+00   0.00000000e+00\n",
      "   0.00000000e+00   1.00000000e+00   0.00000000e+00   1.00000000e+00\n",
      "   1.00000000e+00   0.00000000e+00   2.00000000e+00   0.00000000e+00\n",
      "   0.00000000e+00   1.10000000e+01   0.00000000e+00   0.00000000e+00\n",
      "   4.00000000e+00   0.00000000e+00   0.00000000e+00   1.00000000e+00\n",
      "   0.00000000e+00   0.00000000e+00   8.80000000e+01   1.00000000e+00\n",
      "   0.00000000e+00   0.00000000e+00   0.00000000e+00   0.00000000e+00\n",
      "   0.00000000e+00   0.00000000e+00   0.00000000e+00   0.00000000e+00\n",
      "   0.00000000e+00   3.00000000e+00   0.00000000e+00   1.40000000e+01\n",
      "   1.00000000e+00   4.00000000e+00   0.00000000e+00   0.00000000e+00\n",
      "   0.00000000e+00   0.00000000e+00   0.00000000e+00   1.87000000e+02\n",
      "   0.00000000e+00   0.00000000e+00   1.02000000e+02   0.00000000e+00\n",
      "   0.00000000e+00   0.00000000e+00   0.00000000e+00   0.00000000e+00\n",
      "   0.00000000e+00   4.00000000e+00   0.00000000e+00   2.40000000e+01\n",
      "   8.00000000e+00   0.00000000e+00   2.00000000e+00   0.00000000e+00\n",
      "   0.00000000e+00   1.70000000e+01   2.00000000e+00   1.00000000e+00\n",
      "   1.50000000e+01   0.00000000e+00   1.63000000e+02   2.00000000e+00\n",
      "   0.00000000e+00   0.00000000e+00   1.20000000e+01   0.00000000e+00\n",
      "   0.00000000e+00   0.00000000e+00]\n",
      "2323\n"
     ]
    }
   ],
   "source": [
    "print art_counts[-1]\n",
    "print artist_counts[-1]"
   ]
  },
  {
   "cell_type": "code",
   "execution_count": 23,
   "metadata": {
    "collapsed": true,
    "deletable": true,
    "editable": true
   },
   "outputs": [],
   "source": [
    "for i in range(2000):\n",
    "    art_counts[i] /= artist_counts[i]"
   ]
  },
  {
   "cell_type": "code",
   "execution_count": 24,
   "metadata": {
    "collapsed": true,
    "deletable": true,
    "editable": true
   },
   "outputs": [],
   "source": [
    "np.save('art_counts_small', art_counts)"
   ]
  },
  {
   "cell_type": "code",
   "execution_count": 25,
   "metadata": {
    "collapsed": true,
    "deletable": true,
    "editable": true
   },
   "outputs": [],
   "source": [
    "def centroid_dist(x, c):\n",
    "        sub = x - c\n",
    "        sum_squares = np.square(sub)\n",
    "        return sum(sum_squares)\n",
    "\n",
    "def closest_centroid(cents, x):\n",
    "        distances = []\n",
    "        for c in cents:\n",
    "            distances.append(centroid_dist(x, c))\n",
    "        return distances.index(min(distances))"
   ]
  },
  {
   "cell_type": "code",
   "execution_count": 9,
   "metadata": {
    "collapsed": false,
    "deletable": true,
    "editable": true
   },
   "outputs": [
    {
     "name": "stdout",
     "output_type": "stream",
     "text": [
      "[[  1.25317409e-01   7.55127983e-01   1.19554607e-01 ...,   0.00000000e+00\n",
      "    0.00000000e+00   0.00000000e+00]\n",
      " [  4.04209654e-01   5.34641505e-01   6.11488413e-02 ...,   3.35286740e-04\n",
      "    6.76190775e-05   0.00000000e+00]\n",
      " [  3.49606594e-01   5.66908926e-01   8.34844805e-02 ...,   1.97075223e-04\n",
      "    2.37057836e-04   6.23982129e-06]\n",
      " ..., \n",
      " [  2.54126414e-01   6.64011912e-01   8.18616741e-02 ...,   1.95205914e-04\n",
      "    1.17945431e-04   0.00000000e+00]\n",
      " [  1.89971686e-01   7.48861783e-01   6.11665309e-02 ...,   1.62285867e-04\n",
      "    1.22987826e-04   8.21018062e-05]\n",
      " [  1.38006213e-01   7.98690155e-01   6.33036325e-02 ...,   1.37199548e-04\n",
      "    9.09587047e-05   0.00000000e+00]]\n"
     ]
    }
   ],
   "source": [
    "cents = np.load('art_small_cluster.npy')\n",
    "print cents"
   ]
  },
  {
   "cell_type": "code",
   "execution_count": 10,
   "metadata": {
    "collapsed": false,
    "deletable": true,
    "editable": true
   },
   "outputs": [
    {
     "name": "stdout",
     "output_type": "stream",
     "text": [
      "0.00953675225902\n",
      "0.019073504518\n",
      "0.0286102567771\n",
      "0.0381470090361\n",
      "0.0476837612951\n",
      "0.0572205135541\n",
      "0.0667572658131\n",
      "0.0762940180721\n",
      "0.0858307703312\n",
      "0.0953675225902\n",
      "0.104904274849\n",
      "0.114441027108\n",
      "0.123977779367\n",
      "0.133514531626\n",
      "0.143051283885\n",
      "0.152588036144\n",
      "0.162124788403\n",
      "0.171661540662\n",
      "0.181198292921\n",
      "0.19073504518\n",
      "0.200271797439\n",
      "0.209808549698\n",
      "0.219345301957\n",
      "0.228882054216\n",
      "0.238418806475\n",
      "0.247955558734\n",
      "0.257492310993\n",
      "0.267029063253\n",
      "0.276565815512\n",
      "0.286102567771\n",
      "0.29563932003\n",
      "0.305176072289\n",
      "0.314712824548\n",
      "0.324249576807\n",
      "0.333786329066\n",
      "0.343323081325\n",
      "0.352859833584\n",
      "0.362396585843\n",
      "0.371933338102\n",
      "0.381470090361\n",
      "0.39100684262\n",
      "0.400543594879\n",
      "0.410080347138\n",
      "0.419617099397\n",
      "0.429153851656\n",
      "0.438690603915\n",
      "0.448227356174\n",
      "0.457764108433\n",
      "0.467300860692\n",
      "0.476837612951\n",
      "0.48637436521\n",
      "0.495911117469\n",
      "0.505447869728\n",
      "0.514984621987\n",
      "0.524521374246\n",
      "0.534058126505\n",
      "0.543594878764\n",
      "0.553131631023\n",
      "0.562668383282\n",
      "0.572205135541\n",
      "0.5817418878\n",
      "0.591278640059\n",
      "0.600815392318\n",
      "0.610352144577\n",
      "0.619888896836\n",
      "0.629425649095\n",
      "0.638962401354\n",
      "0.648499153613\n",
      "0.658035905872\n",
      "0.667572658131\n",
      "0.67710941039\n",
      "0.686646162649\n",
      "0.696182914908\n",
      "0.705719667167\n",
      "0.715256419426\n",
      "0.724793171685\n",
      "0.734329923944\n",
      "0.743866676203\n",
      "0.753403428462\n",
      "0.762940180721\n",
      "0.77247693298\n",
      "0.782013685239\n",
      "0.791550437499\n",
      "0.801087189758\n",
      "0.810623942017\n",
      "0.820160694276\n",
      "0.829697446535\n",
      "0.839234198794\n",
      "0.848770951053\n",
      "0.858307703312\n",
      "0.867844455571\n",
      "0.87738120783\n",
      "0.886917960089\n",
      "0.896454712348\n",
      "0.905991464607\n",
      "0.915528216866\n",
      "0.925064969125\n",
      "0.934601721384\n",
      "0.944138473643\n",
      "0.953675225902\n",
      "0.963211978161\n",
      "0.97274873042\n",
      "0.982285482679\n",
      "0.991822234938\n"
     ]
    }
   ],
   "source": [
    "t_a_c = []\n",
    "count = 0\n",
    "for t in train:\n",
    "    artist = art_dict[t[1]]\n",
    "    t_a_c.append([])\n",
    "    t_a_c[count].append(t[0])\n",
    "    t_a_c[count].append(closest_centroid(cents, art_counts[artist]))\n",
    "    t_a_c[count].append(t[2])\n",
    "    \n",
    "    count += 1\n",
    "    if count % 10000 == 0:\n",
    "        print float(count) / 1048575\n",
    "#     if count % 100 == 0:\n",
    "#         print art_counts[artist]\n",
    "#         print closest_centroid(cents, art_counts[artist])"
   ]
  },
  {
   "cell_type": "code",
   "execution_count": null,
   "metadata": {
    "collapsed": true,
    "deletable": true,
    "editable": true
   },
   "outputs": [],
   "source": [
    "print t_a_c"
   ]
  },
  {
   "cell_type": "code",
   "execution_count": 11,
   "metadata": {
    "collapsed": false,
    "deletable": true,
    "editable": true
   },
   "outputs": [
    {
     "name": "stdout",
     "output_type": "stream",
     "text": [
      "[['eb1c57ddc9e0e2d005169d3a1a96e8dd95e3af03' '28' '554']\n",
      " ['44ce793a6cd9d20f13f4a576a818ef983314bb5d' '19' '81']\n",
      " ['da9cf3f557161d54b76f24db64be9cc76db008e3' '28' '708']\n",
      " ..., \n",
      " ['b464ce35f8f875fdf686fd3dc4ce165b650bde7a' '28' '29']\n",
      " ['d8ccd698ad712c26d2620dff07f27473b9173ad9' '28' '56']\n",
      " ['b7d94e5f82e157f94df6c93f283a181108f780c4' '28' '240']]\n"
     ]
    }
   ],
   "source": [
    "train_art_clusters = np.array(t_a_c)\n",
    "print train_art_clusters"
   ]
  },
  {
   "cell_type": "code",
   "execution_count": 12,
   "metadata": {
    "collapsed": true,
    "deletable": true,
    "editable": true
   },
   "outputs": [],
   "source": [
    "np.save('train_art_clusters', train_art_clusters)"
   ]
  },
  {
   "cell_type": "code",
   "execution_count": null,
   "metadata": {
    "collapsed": true,
    "deletable": true,
    "editable": true
   },
   "outputs": [],
   "source": [
    "train_art_clusters = np.load('train_art_clusters.npy')"
   ]
  },
  {
   "cell_type": "code",
   "execution_count": null,
   "metadata": {
    "collapsed": false,
    "deletable": true,
    "editable": true
   },
   "outputs": [],
   "source": [
    "print train_art_clusters[:100]"
   ]
  },
  {
   "cell_type": "code",
   "execution_count": 13,
   "metadata": {
    "collapsed": false,
    "deletable": true,
    "editable": true
   },
   "outputs": [
    {
     "name": "stdout",
     "output_type": "stream",
     "text": [
      "(1048575, 3)\n",
      "0.0\n",
      "0.00953675225902\n",
      "0.019073504518\n",
      "0.0286102567771\n",
      "0.0381470090361\n",
      "0.0476837612951\n",
      "0.0572205135541\n",
      "0.0667572658131\n",
      "0.0762940180721\n",
      "0.0858307703312\n",
      "0.0953675225902\n",
      "0.104904274849\n",
      "0.114441027108\n",
      "0.123977779367\n",
      "0.133514531626\n",
      "0.143051283885\n",
      "0.152588036144\n",
      "0.162124788403\n",
      "0.171661540662\n",
      "0.181198292921\n",
      "0.19073504518\n",
      "0.200271797439\n",
      "0.209808549698\n",
      "0.219345301957\n",
      "0.228882054216\n",
      "0.238418806475\n",
      "0.247955558734\n",
      "0.257492310993\n",
      "0.267029063253\n",
      "0.276565815512\n",
      "0.286102567771\n",
      "0.29563932003\n",
      "0.305176072289\n",
      "0.314712824548\n",
      "0.324249576807\n",
      "0.333786329066\n",
      "0.343323081325\n",
      "0.352859833584\n",
      "0.362396585843\n",
      "0.371933338102\n",
      "0.381470090361\n",
      "0.39100684262\n",
      "0.400543594879\n",
      "0.410080347138\n",
      "0.419617099397\n",
      "0.429153851656\n",
      "0.438690603915\n",
      "0.448227356174\n",
      "0.457764108433\n",
      "0.467300860692\n",
      "0.476837612951\n",
      "0.48637436521\n",
      "0.495911117469\n",
      "0.505447869728\n",
      "0.514984621987\n",
      "0.524521374246\n",
      "0.534058126505\n",
      "0.543594878764\n",
      "0.553131631023\n",
      "0.562668383282\n",
      "0.572205135541\n",
      "0.5817418878\n",
      "0.591278640059\n",
      "0.600815392318\n",
      "0.610352144577\n",
      "0.619888896836\n",
      "0.629425649095\n",
      "0.638962401354\n",
      "0.648499153613\n",
      "0.658035905872\n",
      "0.667572658131\n",
      "0.67710941039\n",
      "0.686646162649\n",
      "0.696182914908\n",
      "0.705719667167\n",
      "0.715256419426\n",
      "0.724793171685\n",
      "0.734329923944\n",
      "0.743866676203\n",
      "0.753403428462\n",
      "0.762940180721\n",
      "0.77247693298\n",
      "0.782013685239\n",
      "0.791550437499\n",
      "0.801087189758\n",
      "0.810623942017\n",
      "0.820160694276\n",
      "0.829697446535\n",
      "0.839234198794\n",
      "0.848770951053\n",
      "0.858307703312\n",
      "0.867844455571\n",
      "0.87738120783\n",
      "0.886917960089\n",
      "0.896454712348\n",
      "0.905991464607\n",
      "0.915528216866\n",
      "0.925064969125\n",
      "0.934601721384\n",
      "0.944138473643\n",
      "0.953675225902\n",
      "0.963211978161\n",
      "0.97274873042\n",
      "0.982285482679\n",
      "0.991822234938\n"
     ]
    }
   ],
   "source": [
    "pro_counts = np.zeros((profiles.shape[0], 50))\n",
    "profile_counts = [0] * profiles.shape[0]\n",
    "count = 0\n",
    "print train_art_clusters.shape\n",
    "for t in train_art_clusters:\n",
    "    \n",
    "    p = prof_dict[t[0]]\n",
    "    \n",
    "    a = int(t[1])\n",
    "    \n",
    "    pro_counts[p][a] += int(t[2])\n",
    "    profile_counts[p] += 1\n",
    "    \n",
    "    if count % 10000 == 0:\n",
    "        print float(count) / 1048575\n",
    "    count += 1"
   ]
  },
  {
   "cell_type": "code",
   "execution_count": null,
   "metadata": {
    "collapsed": false,
    "deletable": true,
    "editable": true
   },
   "outputs": [],
   "source": [
    "# for i in range(len(pro_counts)):\n",
    "#     if profile_counts[i] > 1:\n",
    "#         pro_counts[i] /= profile_counts[i]"
   ]
  },
  {
   "cell_type": "code",
   "execution_count": 14,
   "metadata": {
    "collapsed": false,
    "deletable": true,
    "editable": true
   },
   "outputs": [
    {
     "name": "stdout",
     "output_type": "stream",
     "text": [
      "[   0.    0.    0.    0.    0.    0.    0.  139.    0.    0.  150.    0.\n",
      "    0.    0.    0.    0.    0.    0.    0.    0.    0.    0.    0.    0.\n",
      "    0.    0.    0.    0.    0.    0.    0.  104.    0.    0.    0.    0.\n",
      "    0.    0.    0.    0.    0.    0.    0.    0.    0.    0.    0.    0.\n",
      "    0.    0.]\n"
     ]
    }
   ],
   "source": [
    "print pro_counts[3022]"
   ]
  },
  {
   "cell_type": "code",
   "execution_count": 15,
   "metadata": {
    "collapsed": true,
    "deletable": true,
    "editable": true
   },
   "outputs": [],
   "source": [
    "np.save('pro_counts', pro_counts)"
   ]
  },
  {
   "cell_type": "code",
   "execution_count": null,
   "metadata": {
    "collapsed": true,
    "deletable": true,
    "editable": true
   },
   "outputs": [],
   "source": []
  }
 ],
 "metadata": {
  "kernelspec": {
   "display_name": "Python 2",
   "language": "python",
   "name": "python2"
  },
  "language_info": {
   "codemirror_mode": {
    "name": "ipython",
    "version": 2
   },
   "file_extension": ".py",
   "mimetype": "text/x-python",
   "name": "python",
   "nbconvert_exporter": "python",
   "pygments_lexer": "ipython2",
   "version": "2.7.12"
  }
 },
 "nbformat": 4,
 "nbformat_minor": 2
}
