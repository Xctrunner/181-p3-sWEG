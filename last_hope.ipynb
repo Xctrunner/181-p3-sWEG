{
 "cells": [
  {
   "cell_type": "code",
   "execution_count": 61,
   "metadata": {
    "collapsed": true,
    "deletable": true,
    "editable": true
   },
   "outputs": [],
   "source": [
    "import numpy as np\n",
    "from sklearn import neural_network"
   ]
  },
  {
   "cell_type": "code",
   "execution_count": 8,
   "metadata": {
    "collapsed": true,
    "deletable": true,
    "editable": true
   },
   "outputs": [],
   "source": [
    "cc = np.load('cluster_centers.npy')\n",
    "labels = np.load('labels.npy')\n",
    "tac = np.load('train_art_clusters.npy')"
   ]
  },
  {
   "cell_type": "code",
   "execution_count": 4,
   "metadata": {
    "collapsed": false,
    "deletable": true,
    "editable": true
   },
   "outputs": [
    {
     "name": "stdout",
     "output_type": "stream",
     "text": [
      "(200, 50)\n"
     ]
    }
   ],
   "source": [
    "print cc.shape"
   ]
  },
  {
   "cell_type": "code",
   "execution_count": 9,
   "metadata": {
    "collapsed": false,
    "deletable": true,
    "editable": true
   },
   "outputs": [
    {
     "name": "stdout",
     "output_type": "stream",
     "text": [
      "(1048575, 3)\n"
     ]
    }
   ],
   "source": [
    "print tac.shape"
   ]
  },
  {
   "cell_type": "code",
   "execution_count": 6,
   "metadata": {
    "collapsed": false,
    "deletable": true,
    "editable": true
   },
   "outputs": [
    {
     "name": "stdout",
     "output_type": "stream",
     "text": [
      "(233286,)\n"
     ]
    }
   ],
   "source": [
    "print labels.shape"
   ]
  },
  {
   "cell_type": "code",
   "execution_count": 62,
   "metadata": {
    "collapsed": false,
    "deletable": true,
    "editable": true
   },
   "outputs": [
    {
     "name": "stdout",
     "output_type": "stream",
     "text": [
      "[['03098741-08b3-4dd7-b3f6-1b0bfa2c879c' 'Liars']\n",
      " ['69c4cc43-8163-41c5-ac81-30946d27bb69' 'CunninLynguists']\n",
      " ['7a2e6b55-f149-4e74-be6a-30a1b1a387bb' 'The Desert Sessions']\n",
      " ..., \n",
      " ['8974da95-e631-45aa-8fd7-aa0c2795f997' 'Harry Gregson-Williams']\n",
      " ['8067c102-4996-42bc-9980-06ce2e644eae' 'Soul Coughing']\n",
      " ['39c2a93d-9afa-4a22-9bba-c087ab056e1c' 'Jefferson Airplane']]\n",
      "(233286, 4)\n"
     ]
    }
   ],
   "source": [
    "# relies on chopping off column headers ahead of time. \n",
    "artists = np.loadtxt('data/artists.csv', dtype='string', delimiter=',')\n",
    "print artists\n",
    "profiles = np.loadtxt('data/profiles_fixed.csv', dtype='string', delimiter=',')\n",
    "print profiles.shape\n",
    "\n",
    "# fixing erroneous, irrelevant ages like 1002\n",
    "max_age = 120\n",
    "# total = 0\n",
    "# count = 0\n",
    "for p in profiles:\n",
    "    if p[2] != '' and (int(p[2]) >= max_age or int(p[2]) < 0):\n",
    "        # 22 is the average age of those who put down ages within a reasonable range\n",
    "        p[2] = '22'\n",
    "\n",
    "art_dict = {}\n",
    "count = 0\n",
    "for a in artists:\n",
    "    art_dict[a[0]] = count\n",
    "    count += 1\n",
    "    \n",
    "prof_dict = {}\n",
    "count = 0\n",
    "for a in profiles:\n",
    "    prof_dict[a[0]] = count\n",
    "    count += 1\n",
    "    \n",
    "nation_dict = {}\n",
    "count = 0\n",
    "for p in profiles:\n",
    "    if p[3] not in nation_dict:\n",
    "        nation_dict[p[3]] = None\n",
    "num_nations = len(nation_dict)\n",
    "count = 0\n",
    "for key in nation_dict.keys():\n",
    "    nation_dict[key] = [0] * num_nations\n",
    "    nation_dict[key][count] = 1\n",
    "    count += 1"
   ]
  },
  {
   "cell_type": "code",
   "execution_count": 63,
   "metadata": {
    "collapsed": true,
    "deletable": true,
    "editable": true
   },
   "outputs": [],
   "source": [
    "train = np.loadtxt('data/train_fixed.csv', dtype='string', delimiter=',')"
   ]
  },
  {
   "cell_type": "code",
   "execution_count": 64,
   "metadata": {
    "collapsed": true,
    "deletable": true,
    "editable": true
   },
   "outputs": [],
   "source": [
    "def make_one_hot(length, n):\n",
    "    lst = [0] * length\n",
    "    lst[n] = 1\n",
    "    return lst"
   ]
  },
  {
   "cell_type": "code",
   "execution_count": 26,
   "metadata": {
    "collapsed": false,
    "deletable": true,
    "editable": true
   },
   "outputs": [],
   "source": [
    "pre_X = []\n",
    "pre_Y = []\n",
    "count = 0\n",
    "for t in train[:1048575]:\n",
    "# for t in train[:10]:\n",
    "    p = prof_dict[t[0]]\n",
    "    \n",
    "    temp_x = []\n",
    "    temp_x += make_one_hot(200, labels[p])\n",
    "    temp_x += make_one_hot(50, int(tac[count][1]))\n",
    "    \n",
    "    if profiles[p][1] == 'f':\n",
    "        temp_x += make_one_hot(3, 0)\n",
    "    elif profiles[p][1] == 'm':\n",
    "        temp_x += make_one_hot(3, 1)\n",
    "    else:\n",
    "        temp_x += make_one_hot(3, 2)\n",
    "        \n",
    "    if profiles[p][2] == '':\n",
    "        temp_x += make_one_hot(121, 120)\n",
    "    else:\n",
    "        temp_x += make_one_hot(121, int(profiles[p][2]))\n",
    "        \n",
    "    temp_x += nation_dict[profiles[p][3]]\n",
    "        \n",
    "    pre_X.append(temp_x)\n",
    "    \n",
    "    pre_Y.append(int(t[2]))\n",
    "    \n",
    "    count += 1"
   ]
  },
  {
   "cell_type": "code",
   "execution_count": 27,
   "metadata": {
    "collapsed": false,
    "deletable": true,
    "editable": true
   },
   "outputs": [
    {
     "name": "stdout",
     "output_type": "stream",
     "text": [
      "[[0 0 0 ..., 0 0 0]\n",
      " [0 0 0 ..., 0 0 0]\n",
      " [0 0 0 ..., 0 0 0]\n",
      " ..., \n",
      " [0 0 0 ..., 0 0 0]\n",
      " [0 0 0 ..., 0 0 0]\n",
      " [0 0 0 ..., 0 0 0]]\n",
      "[554  81 708 ..., 230  66 284]\n"
     ]
    }
   ],
   "source": [
    "X = np.array(pre_X)\n",
    "Y = np.array(pre_Y)"
   ]
  },
  {
   "cell_type": "code",
   "execution_count": 65,
   "metadata": {
    "collapsed": true,
    "deletable": true,
    "editable": true
   },
   "outputs": [],
   "source": [
    "def mse(Y, Y_cv):\n",
    "    diff = Y_cv - Y\n",
    "    d_sq = np.square(diff)\n",
    "    mse_res = np.mean(d_sq)\n",
    "    return mse_res"
   ]
  },
  {
   "cell_type": "code",
   "execution_count": null,
   "metadata": {
    "collapsed": false,
    "deletable": true,
    "editable": true
   },
   "outputs": [
    {
     "name": "stdout",
     "output_type": "stream",
     "text": [
      "Iteration 1, loss = 319097.67500054\n",
      "Iteration 2, loss = 299663.07319329\n",
      "Iteration 3, loss = 294541.12457682\n",
      "Iteration 4, loss = 291878.43829243\n",
      "Iteration 5, loss = 290117.92648822\n",
      "Iteration 6, loss = 288792.43514116\n",
      "Iteration 7, loss = 287775.12603029\n",
      "Iteration 8, loss = 286936.67536880\n",
      "Iteration 9, loss = 286264.29826525\n",
      "Iteration 10, loss = 285683.73858215\n",
      "Iteration 11, loss = 285219.90430750\n"
     ]
    }
   ],
   "source": [
    "MLP = neural_network.MLPRegressor(max_iter=200, verbose=True)\n",
    "MLP.fit(X, Y)"
   ]
  },
  {
   "cell_type": "code",
   "execution_count": 36,
   "metadata": {
    "collapsed": false,
    "deletable": true,
    "editable": true
   },
   "outputs": [
    {
     "name": "stdout",
     "output_type": "stream",
     "text": [
      "144942.48414\n"
     ]
    }
   ],
   "source": [
    "Y_cv = MLP.predict(X[-1000:])\n",
    "print mse(Y[-1000:], Y_cv)"
   ]
  },
  {
   "cell_type": "code",
   "execution_count": 37,
   "metadata": {
    "collapsed": true,
    "deletable": true,
    "editable": true
   },
   "outputs": [],
   "source": [
    "import pickle\n",
    "pickle.dump('mlp_model', MLP)"
   ]
  },
  {
   "cell_type": "code",
   "execution_count": 66,
   "metadata": {
    "collapsed": true
   },
   "outputs": [],
   "source": [
    "MLP = pickle.load('mlp_model.pk')"
   ]
  },
  {
   "cell_type": "code",
   "execution_count": 67,
   "metadata": {
    "collapsed": true,
    "deletable": true,
    "editable": true
   },
   "outputs": [],
   "source": [
    "test = np.loadtxt('data/test.csv', dtype='string', delimiter=',')"
   ]
  },
  {
   "cell_type": "code",
   "execution_count": 38,
   "metadata": {
    "collapsed": true,
    "deletable": true,
    "editable": true
   },
   "outputs": [],
   "source": [
    "elt_list = []\n",
    "for t in train:\n",
    "    elt_list.append(float(t[2]))\n",
    "elist = sorted(elt_list)\n",
    "global_median = elist[train.shape[0] / 2]"
   ]
  },
  {
   "cell_type": "code",
   "execution_count": null,
   "metadata": {
    "collapsed": false,
    "deletable": true,
    "editable": true
   },
   "outputs": [],
   "source": [
    "print tac[0]\n",
    "def get_artist_labels():\n",
    "    d = {}\n",
    "    for i in range(len(tac)):\n",
    "        if tac[i][1] not in d:\n",
    "            d[train[i][1]] = int(tac[i][1])\n",
    "    return d\n",
    "art_labels = get_artist_labels()"
   ]
  },
  {
   "cell_type": "code",
   "execution_count": 71,
   "metadata": {
    "collapsed": false,
    "deletable": true,
    "editable": true
   },
   "outputs": [
    {
     "ename": "AttributeError",
     "evalue": "'numpy.ndarray' object has no attribute 'predict'",
     "output_type": "error",
     "traceback": [
      "\u001b[0;31m---------------------------------------------------------------------------\u001b[0m",
      "\u001b[0;31mAttributeError\u001b[0m                            Traceback (most recent call last)",
      "\u001b[0;32m<ipython-input-71-cb7d769dac52>\u001b[0m in \u001b[0;36m<module>\u001b[0;34m()\u001b[0m\n\u001b[1;32m     46\u001b[0m                     \u001b[0mx\u001b[0m \u001b[0;34m=\u001b[0m \u001b[0mnp\u001b[0m\u001b[0;34m.\u001b[0m\u001b[0marray\u001b[0m\u001b[0;34m(\u001b[0m\u001b[0;34m[\u001b[0m\u001b[0mtemp_x\u001b[0m\u001b[0;34m]\u001b[0m\u001b[0;34m)\u001b[0m\u001b[0;34m\u001b[0m\u001b[0m\n\u001b[1;32m     47\u001b[0m \u001b[0;34m\u001b[0m\u001b[0m\n\u001b[0;32m---> 48\u001b[0;31m                     \u001b[0msoln_csv\u001b[0m\u001b[0;34m.\u001b[0m\u001b[0mwriterow\u001b[0m\u001b[0;34m(\u001b[0m\u001b[0;34m[\u001b[0m\u001b[0mid\u001b[0m\u001b[0;34m,\u001b[0m \u001b[0mMLP\u001b[0m\u001b[0;34m.\u001b[0m\u001b[0mpredict\u001b[0m\u001b[0;34m(\u001b[0m\u001b[0mx\u001b[0m\u001b[0;34m)\u001b[0m\u001b[0;34m]\u001b[0m\u001b[0;34m)\u001b[0m\u001b[0;34m\u001b[0m\u001b[0m\n\u001b[0m\u001b[1;32m     49\u001b[0m             \u001b[0;32melse\u001b[0m\u001b[0;34m:\u001b[0m\u001b[0;34m\u001b[0m\u001b[0m\n\u001b[1;32m     50\u001b[0m                 \u001b[0msoln_csv\u001b[0m\u001b[0;34m.\u001b[0m\u001b[0mwriterow\u001b[0m\u001b[0;34m(\u001b[0m\u001b[0;34m[\u001b[0m\u001b[0mid\u001b[0m\u001b[0;34m,\u001b[0m \u001b[0mglobal_median\u001b[0m \u001b[0;34m+\u001b[0m \u001b[0;36m120.0\u001b[0m\u001b[0;34m]\u001b[0m\u001b[0;34m)\u001b[0m\u001b[0;34m\u001b[0m\u001b[0m\n",
      "\u001b[0;31mAttributeError\u001b[0m: 'numpy.ndarray' object has no attribute 'predict'"
     ]
    }
   ],
   "source": [
    "import csv\n",
    "\n",
    "soln_file = 'data/mlp_real.csv'\n",
    "\n",
    "with open('data/test.csv', 'r') as test_fh:\n",
    "# with open('data/train.csv', 'r') as test_fh:\n",
    "    test_reader = csv.reader(test_fh, delimiter=',', quotechar='\"')\n",
    "    next(test_reader, None)\n",
    "    \n",
    "#     print test.shape\n",
    "\n",
    "    with open(soln_file, 'w') as soln_fh:\n",
    "        soln_csv = csv.writer(soln_fh,\n",
    "                              delimiter=',',\n",
    "                              quotechar='\"',\n",
    "                              quoting=csv.QUOTE_MINIMAL)\n",
    "        soln_csv.writerow(['Id', 'plays'])\n",
    "        \n",
    "        count = 0\n",
    "        for row in test_reader:\n",
    "            id     = row[0]\n",
    "            user   = row[1]\n",
    "            artist = row[2]\n",
    "            \n",
    "            if artist in art_labels and user in prof_dict:\n",
    "                    p = prof_dict[user]\n",
    "\n",
    "                    temp_x = []\n",
    "                    temp_x += make_one_hot(200, labels[p])\n",
    "                    temp_x += make_one_hot(50, art_labels[artist])\n",
    "\n",
    "                    if profiles[p][1] == 'f':\n",
    "                        temp_x += make_one_hot(3, 0)\n",
    "                    elif profiles[p][1] == 'm':\n",
    "                        temp_x += make_one_hot(3, 1)\n",
    "                    else:\n",
    "                        temp_x += make_one_hot(3, 2)\n",
    "\n",
    "                    if profiles[p][2] == '':\n",
    "                        temp_x += make_one_hot(121, 120)\n",
    "                    else:\n",
    "                        temp_x += make_one_hot(121, int(profiles[p][2]))\n",
    "\n",
    "                    temp_x += nation_dict[profiles[p][3]]\n",
    "\n",
    "                    x = np.array([temp_x])\n",
    "\n",
    "                    soln_csv.writerow([id, MLP.predict(x)])\n",
    "            else:\n",
    "                soln_csv.writerow([id, global_median + 120.0])\n",
    "                \n",
    "            if count % 10000 == 0:\n",
    "                print count"
   ]
  },
  {
   "cell_type": "code",
   "execution_count": null,
   "metadata": {
    "collapsed": true,
    "deletable": true,
    "editable": true
   },
   "outputs": [],
   "source": []
  }
 ],
 "metadata": {
  "kernelspec": {
   "display_name": "Python 2",
   "language": "python",
   "name": "python2"
  },
  "language_info": {
   "codemirror_mode": {
    "name": "ipython",
    "version": 2
   },
   "file_extension": ".py",
   "mimetype": "text/x-python",
   "name": "python",
   "nbconvert_exporter": "python",
   "pygments_lexer": "ipython2",
   "version": "2.7.12"
  }
 },
 "nbformat": 4,
 "nbformat_minor": 2
}
