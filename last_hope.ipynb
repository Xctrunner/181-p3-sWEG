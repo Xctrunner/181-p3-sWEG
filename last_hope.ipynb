{
 "cells": [
  {
   "cell_type": "code",
   "execution_count": 1,
   "metadata": {
    "collapsed": true,
    "deletable": true,
    "editable": true
   },
   "outputs": [],
   "source": [
    "import numpy as np\n",
    "from sklearn import neural_network"
   ]
  },
  {
   "cell_type": "code",
   "execution_count": 2,
   "metadata": {
    "collapsed": true,
    "deletable": true,
    "editable": true
   },
   "outputs": [],
   "source": [
    "cc = np.load('cluster_centers.npy')\n",
    "labels = np.load('labels.npy')\n",
    "tac = np.load('train_art_clusters.npy')"
   ]
  },
  {
   "cell_type": "code",
   "execution_count": 4,
   "metadata": {
    "collapsed": false,
    "deletable": true,
    "editable": true
   },
   "outputs": [
    {
     "name": "stdout",
     "output_type": "stream",
     "text": [
      "(200, 50)\n"
     ]
    }
   ],
   "source": [
    "print cc.shape"
   ]
  },
  {
   "cell_type": "code",
   "execution_count": 81,
   "metadata": {
    "collapsed": false,
    "deletable": true,
    "editable": true
   },
   "outputs": [
    {
     "name": "stdout",
     "output_type": "stream",
     "text": [
      "(4154804, 3)\n"
     ]
    }
   ],
   "source": [
    "print tac.shape"
   ]
  },
  {
   "cell_type": "code",
   "execution_count": 6,
   "metadata": {
    "collapsed": false,
    "deletable": true,
    "editable": true
   },
   "outputs": [
    {
     "name": "stdout",
     "output_type": "stream",
     "text": [
      "(233286,)\n"
     ]
    }
   ],
   "source": [
    "print labels.shape"
   ]
  },
  {
   "cell_type": "code",
   "execution_count": 3,
   "metadata": {
    "collapsed": false,
    "deletable": true,
    "editable": true
   },
   "outputs": [
    {
     "name": "stdout",
     "output_type": "stream",
     "text": [
      "[['03098741-08b3-4dd7-b3f6-1b0bfa2c879c' 'Liars']\n",
      " ['69c4cc43-8163-41c5-ac81-30946d27bb69' 'CunninLynguists']\n",
      " ['7a2e6b55-f149-4e74-be6a-30a1b1a387bb' 'The Desert Sessions']\n",
      " ..., \n",
      " ['8974da95-e631-45aa-8fd7-aa0c2795f997' 'Harry Gregson-Williams']\n",
      " ['8067c102-4996-42bc-9980-06ce2e644eae' 'Soul Coughing']\n",
      " ['39c2a93d-9afa-4a22-9bba-c087ab056e1c' 'Jefferson Airplane']]\n",
      "(233286, 4)\n"
     ]
    }
   ],
   "source": [
    "# relies on chopping off column headers ahead of time. \n",
    "artists = np.loadtxt('data/artists.csv', dtype='string', delimiter=',')\n",
    "print artists\n",
    "profiles = np.loadtxt('data/profiles_fixed.csv', dtype='string', delimiter=',')\n",
    "print profiles.shape\n",
    "\n",
    "# fixing erroneous, irrelevant ages like 1002\n",
    "max_age = 120\n",
    "# total = 0\n",
    "# count = 0\n",
    "for p in profiles:\n",
    "    if p[2] != '' and (int(p[2]) >= max_age or int(p[2]) < 0):\n",
    "        # 22 is the average age of those who put down ages within a reasonable range\n",
    "        p[2] = '22'\n",
    "\n",
    "art_dict = {}\n",
    "count = 0\n",
    "for a in artists:\n",
    "    art_dict[a[0]] = count\n",
    "    count += 1\n",
    "    \n",
    "prof_dict = {}\n",
    "count = 0\n",
    "for a in profiles:\n",
    "    prof_dict[a[0]] = count\n",
    "    count += 1\n",
    "    \n",
    "nation_dict = {}\n",
    "count = 0\n",
    "for p in profiles:\n",
    "    if p[3] not in nation_dict:\n",
    "        nation_dict[p[3]] = None\n",
    "num_nations = len(nation_dict)\n",
    "count = 0\n",
    "for key in nation_dict.keys():\n",
    "    nation_dict[key] = [0] * num_nations\n",
    "    nation_dict[key][count] = 1\n",
    "    count += 1"
   ]
  },
  {
   "cell_type": "code",
   "execution_count": 4,
   "metadata": {
    "collapsed": true,
    "deletable": true,
    "editable": true
   },
   "outputs": [],
   "source": [
    "train = np.loadtxt('data/train_fixed.csv', dtype='string', delimiter=',')"
   ]
  },
  {
   "cell_type": "code",
   "execution_count": 5,
   "metadata": {
    "collapsed": true,
    "deletable": true,
    "editable": true
   },
   "outputs": [],
   "source": [
    "def make_one_hot(length, n):\n",
    "    lst = [0] * length\n",
    "    lst[n] = 1\n",
    "    return lst"
   ]
  },
  {
   "cell_type": "code",
   "execution_count": 6,
   "metadata": {
    "collapsed": false,
    "deletable": true,
    "editable": true
   },
   "outputs": [],
   "source": [
    "pre_X = []\n",
    "pre_Y = []\n",
    "count = 0\n",
    "for t in train:\n",
    "# for t in train[:10]:\n",
    "    p = prof_dict[t[0]]\n",
    "    \n",
    "    temp_x = []\n",
    "    temp_x += make_one_hot(200, labels[p])\n",
    "    temp_x += make_one_hot(50, int(tac[count][1]))\n",
    "    \n",
    "    if profiles[p][1] == 'f':\n",
    "        temp_x += make_one_hot(3, 0)\n",
    "    elif profiles[p][1] == 'm':\n",
    "        temp_x += make_one_hot(3, 1)\n",
    "    else:\n",
    "        temp_x += make_one_hot(3, 2)\n",
    "        \n",
    "    if profiles[p][2] == '':\n",
    "        temp_x += make_one_hot(121, 120)\n",
    "    else:\n",
    "        temp_x += make_one_hot(121, int(profiles[p][2]))\n",
    "        \n",
    "    temp_x += nation_dict[profiles[p][3]]\n",
    "        \n",
    "    pre_X.append(temp_x)\n",
    "    \n",
    "    pre_Y.append(int(t[2]))\n",
    "    \n",
    "    count += 1"
   ]
  },
  {
   "cell_type": "code",
   "execution_count": 7,
   "metadata": {
    "collapsed": false,
    "deletable": true,
    "editable": true
   },
   "outputs": [],
   "source": [
    "X = np.array(pre_X)\n",
    "Y = np.array(pre_Y)"
   ]
  },
  {
   "cell_type": "code",
   "execution_count": 8,
   "metadata": {
    "collapsed": true,
    "deletable": true,
    "editable": true
   },
   "outputs": [],
   "source": [
    "def mse(Y, Y_cv):\n",
    "    diff = Y_cv - Y\n",
    "    d_sq = np.square(diff)\n",
    "    mse_res = np.mean(d_sq)\n",
    "    return mse_res"
   ]
  },
  {
   "cell_type": "code",
   "execution_count": 9,
   "metadata": {
    "collapsed": false,
    "deletable": true,
    "editable": true
   },
   "outputs": [
    {
     "name": "stdout",
     "output_type": "stream",
     "text": [
      "Iteration 1, loss = 328105.80899441\n",
      "Iteration 2, loss = 308562.03931065\n",
      "Iteration 3, loss = 303659.85609743\n",
      "Iteration 4, loss = 300933.91086671\n",
      "Iteration 5, loss = 299122.12108052\n",
      "Iteration 6, loss = 297755.89428043\n",
      "Iteration 7, loss = 296716.88577755\n",
      "Iteration 8, loss = 295879.96557273\n",
      "Iteration 9, loss = 295178.15150577\n",
      "Iteration 10, loss = 294573.93928163\n",
      "Iteration 11, loss = 294067.28546128\n",
      "Iteration 12, loss = 293627.57244443\n",
      "Iteration 13, loss = 293212.60136216\n",
      "Iteration 14, loss = 292830.93635897\n",
      "Iteration 15, loss = 292490.31754618\n",
      "Iteration 16, loss = 292179.04589195\n",
      "Iteration 17, loss = 291864.83342486\n",
      "Iteration 18, loss = 291556.68891775\n",
      "Iteration 19, loss = 291299.01866696\n",
      "Iteration 20, loss = 291033.86165877\n",
      "Iteration 21, loss = 290756.67134111\n",
      "Iteration 22, loss = 290520.63023743\n",
      "Iteration 23, loss = 290288.24987387\n",
      "Iteration 24, loss = 290047.09293692\n",
      "Iteration 25, loss = 289808.15908610\n",
      "Iteration 26, loss = 289574.93208308\n",
      "Iteration 27, loss = 289364.62011977\n",
      "Iteration 28, loss = 289141.73392450\n",
      "Iteration 29, loss = 288939.10866026\n",
      "Iteration 30, loss = 288709.70865478\n",
      "Iteration 31, loss = 288501.60697033\n",
      "Iteration 32, loss = 288298.74046874\n",
      "Iteration 33, loss = 288065.87920975\n",
      "Iteration 34, loss = 287847.93307280\n",
      "Iteration 35, loss = 287660.32038430\n",
      "Iteration 36, loss = 287466.46471570\n",
      "Iteration 37, loss = 287267.44894356\n",
      "Iteration 38, loss = 287061.98894058\n",
      "Iteration 39, loss = 286836.64219840\n",
      "Iteration 40, loss = 286671.85571562\n",
      "Iteration 41, loss = 286462.18193077\n",
      "Iteration 42, loss = 286261.16962568\n",
      "Iteration 43, loss = 286078.46177788\n",
      "Iteration 44, loss = 285876.21030001\n",
      "Iteration 45, loss = 285665.93809600\n",
      "Iteration 46, loss = 285496.72238678\n",
      "Iteration 47, loss = 285330.27723145\n",
      "Iteration 48, loss = 285140.21373629\n",
      "Iteration 49, loss = 284906.09176146\n",
      "Iteration 50, loss = 284739.55982003\n",
      "Iteration 51, loss = 284570.10243513\n",
      "Iteration 52, loss = 284399.17529725\n",
      "Iteration 53, loss = 284210.91790145\n",
      "Iteration 54, loss = 284022.93835539\n",
      "Iteration 55, loss = 283830.40099581\n",
      "Iteration 56, loss = 283663.54287022\n",
      "Iteration 57, loss = 283451.99387781\n",
      "Iteration 58, loss = 283269.93528956\n",
      "Iteration 59, loss = 283108.33919290\n",
      "Iteration 60, loss = 282923.90324463\n",
      "Iteration 61, loss = 282747.49489794\n",
      "Iteration 62, loss = 282552.67664372\n",
      "Iteration 63, loss = 282323.60710791\n",
      "Iteration 64, loss = 282204.41856181\n",
      "Iteration 65, loss = 282024.89469226\n",
      "Iteration 66, loss = 281816.56114890\n",
      "Iteration 67, loss = 281656.41309824\n",
      "Iteration 68, loss = 281456.78818622\n",
      "Iteration 69, loss = 281297.95106063\n",
      "Iteration 70, loss = 281096.28619221\n",
      "Iteration 71, loss = 280905.71106221\n",
      "Iteration 72, loss = 280708.79114075\n",
      "Iteration 73, loss = 280502.33725475\n",
      "Iteration 74, loss = 280352.76160160\n",
      "Iteration 75, loss = 280167.14277657\n",
      "Iteration 76, loss = 279980.68749008\n",
      "Iteration 77, loss = 279772.98124148\n",
      "Iteration 78, loss = 279601.24076366\n",
      "Iteration 79, loss = 279438.68282914\n",
      "Iteration 80, loss = 279211.54582172\n",
      "Iteration 81, loss = 279035.97637038\n",
      "Iteration 82, loss = 278824.89339077\n",
      "Iteration 83, loss = 278669.32356494\n",
      "Iteration 84, loss = 278473.50091337\n",
      "Iteration 85, loss = 278278.67017261\n",
      "Iteration 86, loss = 278079.37256676\n",
      "Iteration 87, loss = 277898.02277987\n",
      "Iteration 88, loss = 277724.48420949\n",
      "Iteration 89, loss = 277485.33401984\n",
      "Iteration 90, loss = 277356.29410326\n",
      "Iteration 91, loss = 277145.29109204\n",
      "Iteration 92, loss = 276973.11026524\n",
      "Iteration 93, loss = 276788.24969148\n",
      "Iteration 94, loss = 276601.50104982\n",
      "Iteration 95, loss = 276417.95386777\n",
      "Iteration 96, loss = 276200.10201781\n",
      "Iteration 97, loss = 276016.67315975\n",
      "Iteration 98, loss = 275824.65907194\n",
      "Iteration 99, loss = 275630.11992048\n",
      "Iteration 100, loss = 275423.68868516\n",
      "Iteration 101, loss = 275228.62914605\n",
      "Iteration 102, loss = 275029.45543329\n",
      "Iteration 103, loss = 274892.92179927\n",
      "Iteration 104, loss = 274685.52085504\n",
      "Iteration 105, loss = 274506.78000610\n",
      "Iteration 106, loss = 274331.60466344\n",
      "Iteration 107, loss = 274125.66505803\n",
      "Iteration 108, loss = 273911.96592399\n",
      "Iteration 109, loss = 273748.58380296\n",
      "Iteration 110, loss = 273519.75104558\n",
      "Iteration 111, loss = 273384.76398658\n",
      "Iteration 112, loss = 273182.00432868\n",
      "Iteration 113, loss = 272969.34391909\n",
      "Iteration 114, loss = 272825.48375088\n",
      "Iteration 115, loss = 272600.06565190\n",
      "Iteration 116, loss = 272412.77165548\n",
      "Iteration 117, loss = 272236.16851415\n",
      "Iteration 118, loss = 272048.57860081\n",
      "Iteration 119, loss = 271870.08934437\n",
      "Iteration 120, loss = 271692.85229289\n",
      "Iteration 121, loss = 271478.86545056\n",
      "Iteration 122, loss = 271248.00667239\n",
      "Iteration 123, loss = 271099.01865434\n",
      "Iteration 124, loss = 270907.31305157\n",
      "Iteration 125, loss = 270718.15561755\n",
      "Iteration 126, loss = 270497.80080799\n",
      "Iteration 127, loss = 270358.91718516\n",
      "Iteration 128, loss = 270146.92404594\n",
      "Iteration 129, loss = 269976.78209880\n",
      "Iteration 130, loss = 269812.48381754\n",
      "Iteration 131, loss = 269622.60061840\n",
      "Iteration 132, loss = 269405.82426712\n",
      "Iteration 133, loss = 269184.21498946\n",
      "Iteration 134, loss = 269064.24879047\n",
      "Iteration 135, loss = 268861.49470431\n",
      "Iteration 136, loss = 268681.13477629\n",
      "Iteration 137, loss = 268477.25092748\n",
      "Iteration 138, loss = 268310.57985992\n",
      "Iteration 139, loss = 268102.04211367\n",
      "Iteration 140, loss = 267879.83517541\n",
      "Iteration 141, loss = 267722.13916470\n",
      "Iteration 142, loss = 267597.38660667\n",
      "Iteration 143, loss = 267359.21028557\n",
      "Iteration 144, loss = 267160.86826870\n",
      "Iteration 145, loss = 267017.45394550\n",
      "Iteration 146, loss = 266820.88977729\n",
      "Iteration 147, loss = 266681.48341684\n",
      "Iteration 148, loss = 266496.32124635\n",
      "Iteration 149, loss = 266278.29737542\n",
      "Iteration 150, loss = 266071.29800538\n",
      "Iteration 151, loss = 265922.42014503\n",
      "Iteration 152, loss = 265737.23078366\n",
      "Iteration 153, loss = 265567.38622808\n",
      "Iteration 154, loss = 265430.99434447\n",
      "Iteration 155, loss = 265226.37324611\n",
      "Iteration 156, loss = 265082.23545137\n",
      "Iteration 157, loss = 264917.59417086\n",
      "Iteration 158, loss = 264688.82741514\n",
      "Iteration 159, loss = 264528.12880106\n",
      "Iteration 160, loss = 264305.61330914\n",
      "Iteration 161, loss = 264151.04798223\n",
      "Iteration 162, loss = 263983.05361815\n",
      "Iteration 163, loss = 263842.88700733\n",
      "Iteration 164, loss = 263591.86774704\n",
      "Iteration 165, loss = 263426.97114109\n",
      "Iteration 166, loss = 263254.64523560\n",
      "Iteration 167, loss = 263108.73410560\n",
      "Iteration 168, loss = 262903.70734426\n",
      "Iteration 169, loss = 262699.52449896\n",
      "Iteration 170, loss = 262540.11946629\n",
      "Iteration 171, loss = 262387.00202243\n",
      "Iteration 172, loss = 262192.89754842\n",
      "Iteration 173, loss = 262082.15216753\n",
      "Iteration 174, loss = 261853.71963133\n",
      "Iteration 175, loss = 261712.30078238\n",
      "Iteration 176, loss = 261483.47867439\n",
      "Iteration 177, loss = 261358.01715433\n",
      "Iteration 178, loss = 261190.62741055\n",
      "Iteration 179, loss = 260974.99188200\n",
      "Iteration 180, loss = 260800.32454982\n",
      "Iteration 181, loss = 260604.24433510\n",
      "Iteration 182, loss = 260503.23597479\n",
      "Iteration 183, loss = 260313.25436777\n",
      "Iteration 184, loss = 260128.02641249\n",
      "Iteration 185, loss = 259929.70369790\n",
      "Iteration 186, loss = 259834.95536683\n",
      "Iteration 187, loss = 259622.14660521\n",
      "Iteration 188, loss = 259462.28345137\n",
      "Iteration 189, loss = 259284.32074989\n",
      "Iteration 190, loss = 259095.79487861\n",
      "Iteration 191, loss = 258976.63625414\n",
      "Iteration 192, loss = 258779.65304126\n",
      "Iteration 193, loss = 258606.96871419\n",
      "Iteration 194, loss = 258470.95142440\n",
      "Iteration 195, loss = 258274.88381755\n",
      "Iteration 196, loss = 258137.99688883\n",
      "Iteration 197, loss = 257992.82397724\n",
      "Iteration 198, loss = 257809.18287383\n",
      "Iteration 199, loss = 257721.48732603\n",
      "Iteration 200, loss = 257450.40495999\n"
     ]
    },
    {
     "name": "stderr",
     "output_type": "stream",
     "text": [
      "/usr/local/lib/python2.7/site-packages/sklearn/neural_network/multilayer_perceptron.py:563: ConvergenceWarning: Stochastic Optimizer: Maximum iterations reached and the optimization hasn't converged yet.\n",
      "  % (), ConvergenceWarning)\n"
     ]
    },
    {
     "data": {
      "text/plain": [
       "MLPRegressor(activation='relu', alpha=0.0001, batch_size='auto', beta_1=0.9,\n",
       "       beta_2=0.999, early_stopping=False, epsilon=1e-08,\n",
       "       hidden_layer_sizes=(100,), learning_rate='constant',\n",
       "       learning_rate_init=0.001, max_iter=200, momentum=0.9,\n",
       "       nesterovs_momentum=True, power_t=0.5, random_state=None,\n",
       "       shuffle=True, solver='adam', tol=0.0001, validation_fraction=0.1,\n",
       "       verbose=True, warm_start=True)"
      ]
     },
     "execution_count": 9,
     "metadata": {},
     "output_type": "execute_result"
    }
   ],
   "source": [
    "MLP = neural_network.MLPRegressor(max_iter=200, verbose=True, warm_start=True)\n",
    "MLP.fit(X[:1000000], Y[:1000000])"
   ]
  },
  {
   "cell_type": "code",
   "execution_count": 11,
   "metadata": {
    "collapsed": false
   },
   "outputs": [
    {
     "name": "stdout",
     "output_type": "stream",
     "text": [
      "Iteration 201, loss = 211949.00736223\n",
      "Iteration 202, loss = 210425.20066718\n",
      "Iteration 203, loss = 209454.44738891\n",
      "Iteration 204, loss = 208706.21196629\n",
      "Iteration 205, loss = 208158.10903702\n",
      "Iteration 206, loss = 207609.17501814\n",
      "Iteration 207, loss = 207212.39921400\n",
      "Iteration 208, loss = 206801.14214842\n",
      "Iteration 209, loss = 206469.93101717\n",
      "Iteration 210, loss = 206111.08819365\n",
      "Iteration 211, loss = 205793.73699923\n",
      "Iteration 212, loss = 205582.97214157\n",
      "Iteration 213, loss = 205286.68396324\n",
      "Iteration 214, loss = 205061.07050851\n",
      "Iteration 215, loss = 204882.43608623\n",
      "Iteration 216, loss = 204653.18669815\n",
      "Iteration 217, loss = 204455.29555767\n",
      "Iteration 218, loss = 204253.28617996\n",
      "Iteration 219, loss = 204101.48393159\n",
      "Iteration 220, loss = 203935.08329977\n",
      "Iteration 221, loss = 203743.99009991\n",
      "Iteration 222, loss = 203580.31917204\n",
      "Iteration 223, loss = 203393.72051902\n",
      "Iteration 224, loss = 203248.81421890\n",
      "Iteration 225, loss = 203092.00554001\n",
      "Iteration 226, loss = 202972.67766647\n",
      "Iteration 227, loss = 202802.97661321\n",
      "Iteration 228, loss = 202667.20713440\n",
      "Iteration 229, loss = 202520.69126455\n",
      "Iteration 230, loss = 202360.00250259\n",
      "Iteration 231, loss = 202254.31523737\n",
      "Iteration 232, loss = 202113.20294356\n",
      "Iteration 233, loss = 201973.93848724\n",
      "Iteration 234, loss = 201858.38449997\n",
      "Iteration 235, loss = 201754.33415536\n",
      "Iteration 236, loss = 201612.79686108\n",
      "Iteration 237, loss = 201514.83409360\n",
      "Iteration 238, loss = 201363.11866894\n",
      "Iteration 239, loss = 201287.74258698\n",
      "Iteration 240, loss = 201140.08901915\n",
      "Iteration 241, loss = 201049.86468799\n",
      "Iteration 242, loss = 200945.59990740\n",
      "Iteration 243, loss = 200854.06641974\n",
      "Iteration 244, loss = 200758.28106147\n",
      "Iteration 245, loss = 200651.89261255\n",
      "Iteration 246, loss = 200552.52237260\n",
      "Iteration 247, loss = 200448.63298270\n",
      "Iteration 248, loss = 200361.46411653\n",
      "Iteration 249, loss = 200242.61032483\n",
      "Iteration 250, loss = 200199.39656046\n",
      "Iteration 251, loss = 200110.15636630\n",
      "Iteration 252, loss = 199997.66526083\n",
      "Iteration 253, loss = 199899.72595124\n",
      "Iteration 254, loss = 199828.61128247\n",
      "Iteration 255, loss = 199717.21980966\n",
      "Iteration 256, loss = 199673.94299620\n",
      "Iteration 257, loss = 199572.63566583\n",
      "Iteration 258, loss = 199453.66974698\n",
      "Iteration 259, loss = 199393.39520373\n",
      "Iteration 260, loss = 199305.36719887\n",
      "Iteration 261, loss = 199226.51731754\n",
      "Iteration 262, loss = 199131.83629779\n",
      "Iteration 263, loss = 199087.65115312\n",
      "Iteration 264, loss = 199016.35348625\n",
      "Iteration 265, loss = 198958.05925233\n",
      "Iteration 266, loss = 198840.31743027\n",
      "Iteration 267, loss = 198804.04336307\n",
      "Iteration 268, loss = 198690.22604094\n",
      "Iteration 269, loss = 198631.07155119\n",
      "Iteration 270, loss = 198558.48777601\n",
      "Iteration 271, loss = 198484.98581050\n",
      "Iteration 272, loss = 198390.87866230\n",
      "Iteration 273, loss = 198360.84099381\n",
      "Iteration 274, loss = 198238.60823108\n",
      "Iteration 275, loss = 198223.24510600\n",
      "Iteration 276, loss = 198135.84550958\n",
      "Iteration 277, loss = 198085.84779207\n",
      "Iteration 278, loss = 198000.81729730\n",
      "Iteration 279, loss = 197936.79597572\n",
      "Iteration 280, loss = 197837.37038501\n",
      "Iteration 281, loss = 197810.35049106\n",
      "Iteration 282, loss = 197724.73425508\n",
      "Iteration 283, loss = 197636.99490714\n",
      "Iteration 284, loss = 197622.71617650\n",
      "Iteration 285, loss = 197559.17780562\n",
      "Iteration 286, loss = 197451.83706221\n",
      "Iteration 287, loss = 197429.06598958\n",
      "Iteration 288, loss = 197309.28154944\n",
      "Iteration 289, loss = 197312.82564598\n",
      "Iteration 290, loss = 197204.15963315\n",
      "Iteration 291, loss = 197129.25026232\n",
      "Iteration 292, loss = 197091.80670720\n",
      "Iteration 293, loss = 197012.99496227\n",
      "Iteration 294, loss = 196970.22344580\n",
      "Iteration 295, loss = 196918.29158241\n",
      "Iteration 296, loss = 196845.70955855\n",
      "Iteration 297, loss = 196817.09809513\n",
      "Iteration 298, loss = 196757.47620104\n",
      "Iteration 299, loss = 196701.66994773\n",
      "Iteration 300, loss = 196637.11129630\n",
      "Iteration 301, loss = 196578.20303024\n",
      "Iteration 302, loss = 196518.22616285\n",
      "Iteration 303, loss = 196439.05098760\n",
      "Iteration 304, loss = 196406.00704133\n",
      "Iteration 305, loss = 196381.52581085\n",
      "Iteration 306, loss = 196283.88290083\n",
      "Iteration 307, loss = 196239.36973170\n",
      "Iteration 308, loss = 196211.07188491\n",
      "Iteration 309, loss = 196134.47124054\n",
      "Iteration 310, loss = 196084.68186909\n",
      "Iteration 311, loss = 196022.85547396\n",
      "Iteration 312, loss = 195958.02653328\n",
      "Iteration 313, loss = 195882.36265136\n",
      "Iteration 314, loss = 195850.69316763\n",
      "Iteration 315, loss = 195795.42874973\n",
      "Iteration 316, loss = 195749.62862872\n",
      "Iteration 317, loss = 195691.92814925\n",
      "Iteration 318, loss = 195653.19074057\n",
      "Iteration 319, loss = 195593.81568632\n",
      "Iteration 320, loss = 195564.88320738\n",
      "Iteration 321, loss = 195461.21703388\n",
      "Iteration 322, loss = 195465.15479618\n",
      "Iteration 323, loss = 195396.65155829\n",
      "Iteration 324, loss = 195396.64960841\n",
      "Iteration 325, loss = 195316.49596809\n",
      "Iteration 326, loss = 195276.31445577\n",
      "Iteration 327, loss = 195232.09804338\n",
      "Iteration 328, loss = 195175.08753040\n",
      "Iteration 329, loss = 195118.23571538\n",
      "Iteration 330, loss = 195032.82790622\n",
      "Iteration 331, loss = 195023.57616087\n",
      "Iteration 332, loss = 194937.98953657\n",
      "Iteration 333, loss = 194941.16163174\n",
      "Iteration 334, loss = 194899.79197539\n",
      "Iteration 335, loss = 194837.53239330\n",
      "Iteration 336, loss = 194752.71604520\n",
      "Iteration 337, loss = 194771.87210002\n",
      "Iteration 338, loss = 194674.15527588\n",
      "Iteration 339, loss = 194673.71637583\n",
      "Iteration 340, loss = 194613.84023262\n",
      "Iteration 341, loss = 194586.83333310\n",
      "Iteration 342, loss = 194529.72654498\n",
      "Iteration 343, loss = 194434.15483689\n",
      "Iteration 344, loss = 194439.72200353\n",
      "Iteration 345, loss = 194404.23897133\n",
      "Iteration 346, loss = 194323.83167802\n",
      "Iteration 347, loss = 194268.72403211\n",
      "Iteration 348, loss = 194229.43500398\n",
      "Iteration 349, loss = 194186.93618478\n",
      "Iteration 350, loss = 194188.23635596\n",
      "Iteration 351, loss = 194109.18494514\n",
      "Iteration 352, loss = 194090.33014758\n",
      "Iteration 353, loss = 194024.36618503\n",
      "Iteration 354, loss = 193989.81447542\n",
      "Iteration 355, loss = 193928.47232783\n",
      "Iteration 356, loss = 193884.56048074\n",
      "Iteration 357, loss = 193890.16777000\n",
      "Iteration 358, loss = 193849.23366274\n",
      "Iteration 359, loss = 193797.86233416\n",
      "Iteration 360, loss = 193739.83872686\n",
      "Iteration 361, loss = 193686.30497850\n",
      "Iteration 362, loss = 193688.67144335\n",
      "Iteration 363, loss = 193643.07670620\n",
      "Iteration 364, loss = 193547.35644532\n",
      "Iteration 365, loss = 193567.27554567\n",
      "Iteration 366, loss = 193490.90074971\n",
      "Iteration 367, loss = 193443.61975119\n",
      "Iteration 368, loss = 193410.65124734\n",
      "Iteration 369, loss = 193379.38049114\n",
      "Iteration 370, loss = 193306.51925111\n",
      "Iteration 371, loss = 193297.34745985\n",
      "Iteration 372, loss = 193227.86714595\n",
      "Iteration 373, loss = 193208.51497166\n",
      "Iteration 374, loss = 193196.61325741\n",
      "Iteration 375, loss = 193120.38050760\n",
      "Iteration 376, loss = 193087.37588806\n",
      "Iteration 377, loss = 193111.77659093\n",
      "Iteration 378, loss = 192989.44166598\n",
      "Iteration 379, loss = 192964.48586484\n",
      "Iteration 380, loss = 192930.78529218\n",
      "Iteration 381, loss = 192904.01780547\n",
      "Iteration 382, loss = 192907.39335325\n",
      "Iteration 383, loss = 192818.42011981\n",
      "Iteration 384, loss = 192797.55690747\n",
      "Iteration 385, loss = 192728.75351850\n",
      "Iteration 386, loss = 192690.24151291\n",
      "Iteration 387, loss = 192670.13041503\n",
      "Iteration 388, loss = 192627.79534715\n",
      "Iteration 389, loss = 192570.25186301\n",
      "Iteration 390, loss = 192541.64316883\n",
      "Iteration 391, loss = 192523.54847843\n",
      "Iteration 392, loss = 192490.20551360\n",
      "Iteration 393, loss = 192433.41794003\n",
      "Iteration 394, loss = 192408.06416671\n",
      "Iteration 395, loss = 192378.34715790\n",
      "Iteration 396, loss = 192330.04902828\n",
      "Iteration 397, loss = 192278.01794181\n",
      "Iteration 398, loss = 192297.83223112\n",
      "Iteration 399, loss = 192189.59697637\n",
      "Iteration 400, loss = 192212.62723044\n"
     ]
    },
    {
     "data": {
      "text/plain": [
       "MLPRegressor(activation='relu', alpha=0.0001, batch_size='auto', beta_1=0.9,\n",
       "       beta_2=0.999, early_stopping=False, epsilon=1e-08,\n",
       "       hidden_layer_sizes=(100,), learning_rate='constant',\n",
       "       learning_rate_init=0.001, max_iter=200, momentum=0.9,\n",
       "       nesterovs_momentum=True, power_t=0.5, random_state=None,\n",
       "       shuffle=True, solver='adam', tol=0.0001, validation_fraction=0.1,\n",
       "       verbose=True, warm_start=True)"
      ]
     },
     "execution_count": 11,
     "metadata": {},
     "output_type": "execute_result"
    }
   ],
   "source": [
    "MLP.fit(X[1000000:2000000], Y[1000000:2000000])"
   ]
  },
  {
   "cell_type": "code",
   "execution_count": 16,
   "metadata": {
    "collapsed": false
   },
   "outputs": [
    {
     "name": "stdout",
     "output_type": "stream",
     "text": [
      "Iteration 401, loss = 205975.41594847\n",
      "Iteration 402, loss = 204630.70116811\n",
      "Training loss did not improve more than tol=0.000100 for two consecutive epochs. Stopping.\n"
     ]
    },
    {
     "data": {
      "text/plain": [
       "MLPRegressor(activation='relu', alpha=0.0001, batch_size='auto', beta_1=0.9,\n",
       "       beta_2=0.999, early_stopping=False, epsilon=1e-08,\n",
       "       hidden_layer_sizes=(100,), learning_rate='constant',\n",
       "       learning_rate_init=0.001, max_iter=200, momentum=0.9,\n",
       "       nesterovs_momentum=True, power_t=0.5, random_state=None,\n",
       "       shuffle=True, solver='adam', tol=0.0001, validation_fraction=0.1,\n",
       "       verbose=True, warm_start=True)"
      ]
     },
     "execution_count": 16,
     "metadata": {},
     "output_type": "execute_result"
    }
   ],
   "source": [
    "MLP.fit(X[2000000:3000000], Y[2000000:3000000])"
   ]
  },
  {
   "cell_type": "code",
   "execution_count": null,
   "metadata": {
    "collapsed": false,
    "deletable": true,
    "editable": true
   },
   "outputs": [],
   "source": [
    "Y_cv = MLP.predict(X[-1000:])\n",
    "print mse(Y[-1000:], Y_cv)"
   ]
  },
  {
   "cell_type": "code",
   "execution_count": 17,
   "metadata": {
    "collapsed": true,
    "deletable": true,
    "editable": true
   },
   "outputs": [],
   "source": [
    "import pickle\n",
    "pickle.dump(MLP, open(\"mlp_model_3m.p\", \"wb\"))"
   ]
  },
  {
   "cell_type": "code",
   "execution_count": 66,
   "metadata": {
    "collapsed": true,
    "deletable": true,
    "editable": true
   },
   "outputs": [],
   "source": [
    "MLP = pickle.load('mlp_model.p')"
   ]
  },
  {
   "cell_type": "code",
   "execution_count": null,
   "metadata": {
    "collapsed": true
   },
   "outputs": [],
   "source": [
    "from sklearn import ensemble\n",
    "RFR = ensemble.RandomForestRegressor(verbose=1, warm_start=True)\n",
    "RFR.fit(X[:1000000], Y[:1000000])"
   ]
  },
  {
   "cell_type": "code",
   "execution_count": 18,
   "metadata": {
    "collapsed": true,
    "deletable": true,
    "editable": true
   },
   "outputs": [],
   "source": [
    "test = np.loadtxt('data/test.csv', dtype='string', delimiter=',')"
   ]
  },
  {
   "cell_type": "code",
   "execution_count": 19,
   "metadata": {
    "collapsed": true,
    "deletable": true,
    "editable": true
   },
   "outputs": [],
   "source": [
    "elt_list = []\n",
    "for t in train:\n",
    "    elt_list.append(float(t[2]))\n",
    "elist = sorted(elt_list)\n",
    "global_median = elist[train.shape[0] / 2]"
   ]
  },
  {
   "cell_type": "code",
   "execution_count": 20,
   "metadata": {
    "collapsed": false,
    "deletable": true,
    "editable": true
   },
   "outputs": [
    {
     "name": "stdout",
     "output_type": "stream",
     "text": [
      "['eb1c57ddc9e0e2d005169d3a1a96e8dd95e3af03' '16' '554']\n"
     ]
    }
   ],
   "source": [
    "print tac[0]\n",
    "def get_artist_labels():\n",
    "    d = {}\n",
    "    for i in range(len(tac)):\n",
    "        if tac[i][1] not in d:\n",
    "            d[train[i][1]] = int(tac[i][1])\n",
    "    return d\n",
    "art_labels = get_artist_labels()"
   ]
  },
  {
   "cell_type": "code",
   "execution_count": 21,
   "metadata": {
    "collapsed": false,
    "deletable": true,
    "editable": true
   },
   "outputs": [
    {
     "name": "stdout",
     "output_type": "stream",
     "text": [
      "0 10000 20000 30000 40000 50000 60000 70000 80000 90000 100000 110000 120000 130000 140000 150000 160000 170000 180000 190000 200000 210000 220000 230000 240000 250000 260000 270000 280000 290000 300000 310000 320000 330000 340000 350000 360000 370000 380000 390000 400000 410000 420000 430000 440000 450000 460000 470000 480000 490000 500000 510000 520000 530000 540000 550000 560000 570000 580000 590000 600000 610000 620000 630000 640000 650000 660000 670000 680000 690000 700000 710000 720000 730000 740000 750000 760000 770000 780000 790000 800000 810000 820000 830000 840000 850000 860000 870000 880000 890000 900000 910000 920000 930000 940000 950000 960000 970000 980000 990000 1000000 1010000 1020000 1030000 1040000 1050000 1060000 1070000 1080000 1090000 1100000 1110000 1120000 1130000 1140000 1150000 1160000 1170000 1180000 1190000 1200000 1210000 1220000 1230000 1240000 1250000 1260000 1270000 1280000 1290000 1300000 1310000 1320000 1330000 1340000 1350000 1360000 1370000 1380000 1390000 1400000 1410000 1420000 1430000 1440000 1450000 1460000 1470000 1480000 1490000 1500000 1510000 1520000 1530000 1540000 1550000 1560000 1570000 1580000 1590000 1600000 1610000 1620000 1630000 1640000 1650000 1660000 1670000 1680000 1690000 1700000 1710000 1720000 1730000 1740000 1750000 1760000 1770000 1780000 1790000 1800000 1810000 1820000 1830000 1840000 1850000 1860000 1870000 1880000 1890000 1900000 1910000 1920000 1930000 1940000 1950000 1960000 1970000 1980000 1990000 2000000 2010000 2020000 2030000 2040000 2050000 2060000 2070000 2080000 2090000 2100000 2110000 2120000 2130000 2140000 2150000 2160000 2170000 2180000 2190000 2200000 2210000 2220000 2230000 2240000 2250000 2260000 2270000 2280000 2290000 2300000 2310000 2320000 2330000 2340000 2350000 2360000 2370000 2380000 2390000 2400000 2410000 2420000 2430000 2440000 2450000 2460000 2470000 2480000 2490000 2500000 2510000 2520000 2530000 2540000 2550000 2560000 2570000 2580000 2590000 2600000 2610000 2620000 2630000 2640000 2650000 2660000 2670000 2680000 2690000 2700000 2710000 2720000 2730000 2740000 2750000 2760000 2770000 2780000 2790000 2800000 2810000 2820000 2830000 2840000 2850000 2860000 2870000 2880000 2890000 2900000 2910000 2920000 2930000 2940000 2950000 2960000 2970000 2980000 2990000 3000000 3010000 3020000 3030000 3040000 3050000 3060000 3070000 3080000 3090000 3100000 3110000 3120000 3130000 3140000 3150000 3160000 3170000 3180000 3190000 3200000 3210000 3220000 3230000 3240000 3250000 3260000 3270000 3280000 3290000 3300000 3310000 3320000 3330000 3340000 3350000 3360000 3370000 3380000 3390000 3400000 3410000 3420000 3430000 3440000 3450000 3460000 3470000 3480000 3490000 3500000 3510000 3520000 3530000 3540000 3550000 3560000 3570000 3580000 3590000 3600000 3610000 3620000 3630000 3640000 3650000 3660000 3670000 3680000 3690000 3700000 3710000 3720000 3730000 3740000 3750000 3760000 3770000 3780000 3790000 3800000 3810000 3820000 3830000 3840000 3850000 3860000 3870000 3880000 3890000 3900000 3910000 3920000 3930000 3940000 3950000 3960000 3970000 3980000 3990000 4000000 4010000 4020000 4030000 4040000 4050000 4060000 4070000 4080000 4090000 4100000 4110000 4120000 4130000 4140000 4150000\n"
     ]
    }
   ],
   "source": [
    "import csv\n",
    "\n",
    "soln_file = 'data/mlp_3m.csv'\n",
    "\n",
    "with open('data/test.csv', 'r') as test_fh:\n",
    "# with open('data/train.csv', 'r') as test_fh:\n",
    "    test_reader = csv.reader(test_fh, delimiter=',', quotechar='\"')\n",
    "    next(test_reader, None)\n",
    "    \n",
    "#     print test.shape\n",
    "\n",
    "    with open(soln_file, 'w') as soln_fh:\n",
    "        soln_csv = csv.writer(soln_fh,\n",
    "                              delimiter=',',\n",
    "                              quotechar='\"',\n",
    "                              quoting=csv.QUOTE_MINIMAL)\n",
    "        soln_csv.writerow(['Id', 'plays'])\n",
    "        \n",
    "        count = 0\n",
    "        for row in test_reader:\n",
    "            id     = row[0]\n",
    "            user   = row[1]\n",
    "            artist = row[2]\n",
    "            \n",
    "            if artist in art_labels and user in prof_dict:\n",
    "                    p = prof_dict[user]\n",
    "\n",
    "                    temp_x = []\n",
    "                    temp_x += make_one_hot(200, labels[p])\n",
    "                    temp_x += make_one_hot(50, art_labels[artist])\n",
    "\n",
    "                    if profiles[p][1] == 'f':\n",
    "                        temp_x += make_one_hot(3, 0)\n",
    "                    elif profiles[p][1] == 'm':\n",
    "                        temp_x += make_one_hot(3, 1)\n",
    "                    else:\n",
    "                        temp_x += make_one_hot(3, 2)\n",
    "\n",
    "                    if profiles[p][2] == '':\n",
    "                        temp_x += make_one_hot(121, 120)\n",
    "                    else:\n",
    "                        temp_x += make_one_hot(121, int(profiles[p][2]))\n",
    "\n",
    "                    temp_x += nation_dict[profiles[p][3]]\n",
    "\n",
    "                    x = np.array([temp_x])\n",
    "\n",
    "                    pred = MLP.predict(x)[0]\n",
    "                    if pred > 0:\n",
    "                        soln_csv.writerow([id, MLP.predict(x)[0]])\n",
    "                    else:\n",
    "                        soln_csv.writerow([id, 0])\n",
    "            else:\n",
    "                soln_csv.writerow([id, global_median + 120.0])\n",
    "                \n",
    "            if count % 10000 == 0:\n",
    "                print count,\n",
    "            count += 1"
   ]
  },
  {
   "cell_type": "code",
   "execution_count": null,
   "metadata": {
    "collapsed": true,
    "deletable": true,
    "editable": true
   },
   "outputs": [],
   "source": []
  }
 ],
 "metadata": {
  "kernelspec": {
   "display_name": "Python 2",
   "language": "python",
   "name": "python2"
  },
  "language_info": {
   "codemirror_mode": {
    "name": "ipython",
    "version": 2
   },
   "file_extension": ".py",
   "mimetype": "text/x-python",
   "name": "python",
   "nbconvert_exporter": "python",
   "pygments_lexer": "ipython2",
   "version": "2.7.12"
  }
 },
 "nbformat": 4,
 "nbformat_minor": 2
}
