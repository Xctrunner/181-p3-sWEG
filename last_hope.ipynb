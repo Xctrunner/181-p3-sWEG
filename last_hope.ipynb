{
 "cells": [
  {
   "cell_type": "code",
   "execution_count": 61,
   "metadata": {
    "collapsed": true,
    "deletable": true,
    "editable": true
   },
   "outputs": [],
   "source": [
    "import numpy as np\n",
    "from sklearn import neural_network"
   ]
  },
  {
   "cell_type": "code",
   "execution_count": 8,
   "metadata": {
    "collapsed": true,
    "deletable": true,
    "editable": true
   },
   "outputs": [],
   "source": [
    "cc = np.load('cluster_centers.npy')\n",
    "labels = np.load('labels.npy')\n",
    "tac = np.load('train_art_clusters.npy')"
   ]
  },
  {
   "cell_type": "code",
   "execution_count": 4,
   "metadata": {
    "collapsed": false,
    "deletable": true,
    "editable": true
   },
   "outputs": [
    {
     "name": "stdout",
     "output_type": "stream",
     "text": [
      "(200, 50)\n"
     ]
    }
   ],
   "source": [
    "print cc.shape"
   ]
  },
  {
   "cell_type": "code",
   "execution_count": 9,
   "metadata": {
    "collapsed": false,
    "deletable": true,
    "editable": true
   },
   "outputs": [
    {
     "name": "stdout",
     "output_type": "stream",
     "text": [
      "(1048575, 3)\n"
     ]
    }
   ],
   "source": [
    "print tac.shape"
   ]
  },
  {
   "cell_type": "code",
   "execution_count": 6,
   "metadata": {
    "collapsed": false,
    "deletable": true,
    "editable": true
   },
   "outputs": [
    {
     "name": "stdout",
     "output_type": "stream",
     "text": [
      "(233286,)\n"
     ]
    }
   ],
   "source": [
    "print labels.shape"
   ]
  },
  {
   "cell_type": "code",
   "execution_count": 62,
   "metadata": {
    "collapsed": false,
    "deletable": true,
    "editable": true
   },
   "outputs": [
    {
     "name": "stdout",
     "output_type": "stream",
     "text": [
      "[['03098741-08b3-4dd7-b3f6-1b0bfa2c879c' 'Liars']\n",
      " ['69c4cc43-8163-41c5-ac81-30946d27bb69' 'CunninLynguists']\n",
      " ['7a2e6b55-f149-4e74-be6a-30a1b1a387bb' 'The Desert Sessions']\n",
      " ..., \n",
      " ['8974da95-e631-45aa-8fd7-aa0c2795f997' 'Harry Gregson-Williams']\n",
      " ['8067c102-4996-42bc-9980-06ce2e644eae' 'Soul Coughing']\n",
      " ['39c2a93d-9afa-4a22-9bba-c087ab056e1c' 'Jefferson Airplane']]\n",
      "(233286, 4)\n"
     ]
    }
   ],
   "source": [
    "# relies on chopping off column headers ahead of time. \n",
    "artists = np.loadtxt('data/artists.csv', dtype='string', delimiter=',')\n",
    "print artists\n",
    "profiles = np.loadtxt('data/profiles_fixed.csv', dtype='string', delimiter=',')\n",
    "print profiles.shape\n",
    "\n",
    "# fixing erroneous, irrelevant ages like 1002\n",
    "max_age = 120\n",
    "# total = 0\n",
    "# count = 0\n",
    "for p in profiles:\n",
    "    if p[2] != '' and (int(p[2]) >= max_age or int(p[2]) < 0):\n",
    "        # 22 is the average age of those who put down ages within a reasonable range\n",
    "        p[2] = '22'\n",
    "\n",
    "art_dict = {}\n",
    "count = 0\n",
    "for a in artists:\n",
    "    art_dict[a[0]] = count\n",
    "    count += 1\n",
    "    \n",
    "prof_dict = {}\n",
    "count = 0\n",
    "for a in profiles:\n",
    "    prof_dict[a[0]] = count\n",
    "    count += 1\n",
    "    \n",
    "nation_dict = {}\n",
    "count = 0\n",
    "for p in profiles:\n",
    "    if p[3] not in nation_dict:\n",
    "        nation_dict[p[3]] = None\n",
    "num_nations = len(nation_dict)\n",
    "count = 0\n",
    "for key in nation_dict.keys():\n",
    "    nation_dict[key] = [0] * num_nations\n",
    "    nation_dict[key][count] = 1\n",
    "    count += 1"
   ]
  },
  {
   "cell_type": "code",
   "execution_count": 63,
   "metadata": {
    "collapsed": true,
    "deletable": true,
    "editable": true
   },
   "outputs": [],
   "source": [
    "train = np.loadtxt('data/train_fixed.csv', dtype='string', delimiter=',')"
   ]
  },
  {
   "cell_type": "code",
   "execution_count": 64,
   "metadata": {
    "collapsed": true,
    "deletable": true,
    "editable": true
   },
   "outputs": [],
   "source": [
    "def make_one_hot(length, n):\n",
    "    lst = [0] * length\n",
    "    lst[n] = 1\n",
    "    return lst"
   ]
  },
  {
   "cell_type": "code",
   "execution_count": 26,
   "metadata": {
    "collapsed": false,
    "deletable": true,
    "editable": true
   },
   "outputs": [],
   "source": [
    "pre_X = []\n",
    "pre_Y = []\n",
    "count = 0\n",
    "for t in train[:1048575]:\n",
    "# for t in train[:10]:\n",
    "    p = prof_dict[t[0]]\n",
    "    \n",
    "    temp_x = []\n",
    "    temp_x += make_one_hot(200, labels[p])\n",
    "    temp_x += make_one_hot(50, int(tac[count][1]))\n",
    "    \n",
    "    if profiles[p][1] == 'f':\n",
    "        temp_x += make_one_hot(3, 0)\n",
    "    elif profiles[p][1] == 'm':\n",
    "        temp_x += make_one_hot(3, 1)\n",
    "    else:\n",
    "        temp_x += make_one_hot(3, 2)\n",
    "        \n",
    "    if profiles[p][2] == '':\n",
    "        temp_x += make_one_hot(121, 120)\n",
    "    else:\n",
    "        temp_x += make_one_hot(121, int(profiles[p][2]))\n",
    "        \n",
    "    temp_x += nation_dict[profiles[p][3]]\n",
    "        \n",
    "    pre_X.append(temp_x)\n",
    "    \n",
    "    pre_Y.append(int(t[2]))\n",
    "    \n",
    "    count += 1"
   ]
  },
  {
   "cell_type": "code",
   "execution_count": 27,
   "metadata": {
    "collapsed": false,
    "deletable": true,
    "editable": true
   },
   "outputs": [
    {
     "name": "stdout",
     "output_type": "stream",
     "text": [
      "[[0 0 0 ..., 0 0 0]\n",
      " [0 0 0 ..., 0 0 0]\n",
      " [0 0 0 ..., 0 0 0]\n",
      " ..., \n",
      " [0 0 0 ..., 0 0 0]\n",
      " [0 0 0 ..., 0 0 0]\n",
      " [0 0 0 ..., 0 0 0]]\n",
      "[554  81 708 ..., 230  66 284]\n"
     ]
    }
   ],
   "source": [
    "X = np.array(pre_X)\n",
    "Y = np.array(pre_Y)"
   ]
  },
  {
   "cell_type": "code",
   "execution_count": 65,
   "metadata": {
    "collapsed": true,
    "deletable": true,
    "editable": true
   },
   "outputs": [],
   "source": [
    "def mse(Y, Y_cv):\n",
    "    diff = Y_cv - Y\n",
    "    d_sq = np.square(diff)\n",
    "    mse_res = np.mean(d_sq)\n",
    "    return mse_res"
   ]
  },
  {
   "cell_type": "code",
   "execution_count": null,
   "metadata": {
    "collapsed": false,
    "deletable": true,
    "editable": true
   },
   "outputs": [
    {
     "name": "stdout",
     "output_type": "stream",
     "text": [
      "Iteration 1, loss = 319097.67500054\n",
      "Iteration 2, loss = 299663.07319329\n",
      "Iteration 3, loss = 294541.12457682\n",
      "Iteration 4, loss = 291878.43829243\n",
      "Iteration 5, loss = 290117.92648822\n",
      "Iteration 6, loss = 288792.43514116\n",
      "Iteration 7, loss = 287775.12603029\n",
      "Iteration 8, loss = 286936.67536880\n",
      "Iteration 9, loss = 286264.29826525\n",
      "Iteration 10, loss = 285683.73858215\n",
      "Iteration 11, loss = 285219.90430750\n",
      "Iteration 12, loss = 284799.68837347\n",
      "Iteration 13, loss = 284444.97253445\n",
      "Iteration 14, loss = 284112.93953250\n",
      "Iteration 15, loss = 283786.50531307\n",
      "Iteration 16, loss = 283518.14733265\n",
      "Iteration 17, loss = 283246.69709349\n",
      "Iteration 18, loss = 282998.42572028\n",
      "Iteration 19, loss = 282761.22661641\n",
      "Iteration 20, loss = 282537.95932575\n",
      "Iteration 21, loss = 282322.33041414\n",
      "Iteration 22, loss = 282131.33000825\n",
      "Iteration 23, loss = 281897.45422551\n",
      "Iteration 24, loss = 281711.91342968\n",
      "Iteration 25, loss = 281548.05709230\n",
      "Iteration 26, loss = 281345.99843318\n",
      "Iteration 27, loss = 281175.87307260\n",
      "Iteration 28, loss = 280998.23125692\n",
      "Iteration 29, loss = 280832.36988492\n",
      "Iteration 30, loss = 280642.92274166\n",
      "Iteration 31, loss = 280502.83785051\n",
      "Iteration 32, loss = 280318.90759802\n",
      "Iteration 33, loss = 280188.22182978\n",
      "Iteration 34, loss = 280009.44091113\n",
      "Iteration 35, loss = 279849.18651614\n",
      "Iteration 36, loss = 279684.22288050\n",
      "Iteration 37, loss = 279535.97570733\n",
      "Iteration 38, loss = 279362.50300453\n",
      "Iteration 39, loss = 279206.27486982\n",
      "Iteration 40, loss = 279077.01280617\n",
      "Iteration 41, loss = 278900.11531581\n",
      "Iteration 42, loss = 278772.86029916\n",
      "Iteration 43, loss = 278581.09688532\n",
      "Iteration 44, loss = 278461.28533014\n",
      "Iteration 45, loss = 278326.46686162\n",
      "Iteration 46, loss = 278139.01023040\n",
      "Iteration 47, loss = 278040.06698121\n",
      "Iteration 48, loss = 277871.07942258\n",
      "Iteration 49, loss = 277721.38928998\n",
      "Iteration 50, loss = 277593.96870064\n",
      "Iteration 51, loss = 277467.38727294\n",
      "Iteration 52, loss = 277319.10138532\n",
      "Iteration 53, loss = 277155.44513778\n",
      "Iteration 54, loss = 277043.52441189\n",
      "Iteration 55, loss = 276913.48548548\n",
      "Iteration 56, loss = 276766.45927956\n",
      "Iteration 57, loss = 276633.08447094\n",
      "Iteration 58, loss = 276507.11865467\n",
      "Iteration 59, loss = 276383.70098981\n",
      "Iteration 60, loss = 276229.40080998\n",
      "Iteration 61, loss = 276125.29156366\n",
      "Iteration 62, loss = 275963.82432369\n",
      "Iteration 63, loss = 275836.87085851\n",
      "Iteration 64, loss = 275710.05598688\n",
      "Iteration 65, loss = 275602.89308468\n",
      "Iteration 66, loss = 275434.73638486\n",
      "Iteration 67, loss = 275341.86818622\n",
      "Iteration 68, loss = 275207.35196131\n",
      "Iteration 69, loss = 275079.89002005\n",
      "Iteration 70, loss = 274982.75477212\n",
      "Iteration 71, loss = 274839.57060253\n",
      "Iteration 72, loss = 274707.71366338\n",
      "Iteration 73, loss = 274562.75359373\n",
      "Iteration 74, loss = 274447.84251256\n",
      "Iteration 75, loss = 274311.79332354\n",
      "Iteration 76, loss = 274209.87531944\n",
      "Iteration 77, loss = 274073.25725711\n",
      "Iteration 78, loss = 273960.19895720\n",
      "Iteration 79, loss = 273861.25877552\n",
      "Iteration 80, loss = 273709.55012200\n",
      "Iteration 81, loss = 273567.04234348\n",
      "Iteration 82, loss = 273452.22617084\n",
      "Iteration 83, loss = 273370.80548568\n",
      "Iteration 84, loss = 273239.11609300\n",
      "Iteration 85, loss = 273120.43004938\n",
      "Iteration 86, loss = 272974.64040690\n",
      "Iteration 87, loss = 272858.74722671\n",
      "Iteration 88, loss = 272780.39721956\n",
      "Iteration 89, loss = 272664.55964280\n",
      "Iteration 90, loss = 272530.69298836\n",
      "Iteration 91, loss = 272441.05118656\n",
      "Iteration 92, loss = 272282.44583949\n",
      "Iteration 93, loss = 272206.96421584\n",
      "Iteration 94, loss = 272107.66795010\n",
      "Iteration 95, loss = 271959.45428596\n",
      "Iteration 96, loss = 271866.34064216\n",
      "Iteration 97, loss = 271706.46045954\n",
      "Iteration 98, loss = 271635.21661793\n",
      "Iteration 99, loss = 271512.19184311\n",
      "Iteration 100, loss = 271403.93920018\n",
      "Iteration 101, loss = 271312.54392477\n",
      "Iteration 102, loss = 271172.61040110\n",
      "Iteration 103, loss = 271085.30689892\n",
      "Iteration 104, loss = 270983.86565229\n",
      "Iteration 105, loss = 270860.48078062\n",
      "Iteration 106, loss = 270760.40649705\n",
      "Iteration 107, loss = 270601.44846290\n",
      "Iteration 108, loss = 270501.14740549\n",
      "Iteration 109, loss = 270408.87680506\n",
      "Iteration 110, loss = 270308.57117733\n",
      "Iteration 111, loss = 270170.39545894\n",
      "Iteration 112, loss = 270059.51090732\n",
      "Iteration 113, loss = 269887.58334023\n",
      "Iteration 114, loss = 269804.02928275\n",
      "Iteration 115, loss = 269710.80475281\n",
      "Iteration 116, loss = 269563.85721086\n",
      "Iteration 117, loss = 269470.30689765\n",
      "Iteration 118, loss = 269371.32098157\n",
      "Iteration 119, loss = 269218.95184266\n",
      "Iteration 120, loss = 269142.08625009\n",
      "Iteration 121, loss = 269055.27086171\n",
      "Iteration 122, loss = 268939.65836374\n",
      "Iteration 123, loss = 268830.72921129\n",
      "Iteration 124, loss = 268740.76447282\n",
      "Iteration 125, loss = 268636.63673456\n",
      "Iteration 126, loss = 268510.12376049\n",
      "Iteration 127, loss = 268411.54930680\n",
      "Iteration 128, loss = 268278.09241915\n",
      "Iteration 129, loss = 268164.64025625\n",
      "Iteration 130, loss = 268037.12994801\n",
      "Iteration 131, loss = 267900.25774659\n",
      "Iteration 132, loss = 267782.63209981\n",
      "Iteration 133, loss = 267685.30569120\n",
      "Iteration 134, loss = 267599.11677102\n",
      "Iteration 135, loss = 267527.15178316\n",
      "Iteration 136, loss = 267378.84327863\n",
      "Iteration 137, loss = 267267.64323319\n",
      "Iteration 138, loss = 267146.74386871\n",
      "Iteration 139, loss = 267067.81462424\n",
      "Iteration 140, loss = 266922.69851822\n",
      "Iteration 141, loss = 266829.64597155\n",
      "Iteration 142, loss = 266736.03699875\n",
      "Iteration 143, loss = 266609.73495391\n",
      "Iteration 144, loss = 266533.40884644\n",
      "Iteration 145, loss = 266401.29846012\n",
      "Iteration 146, loss = 266304.28612462\n",
      "Iteration 147, loss = 266146.07078410\n",
      "Iteration 148, loss = 266074.06785807\n",
      "Iteration 149, loss = 265966.73164759\n",
      "Iteration 150, loss = 265837.29393520\n",
      "Iteration 151, loss = 265725.17277835\n",
      "Iteration 152, loss = 265601.10614889\n",
      "Iteration 153, loss = 265526.83578524\n",
      "Iteration 154, loss = 265413.92118321\n",
      "Iteration 155, loss = 265331.56395134\n",
      "Iteration 156, loss = 265201.80673205\n",
      "Iteration 157, loss = 265060.46997906\n",
      "Iteration 158, loss = 264948.34512833\n",
      "Iteration 159, loss = 264833.94499745\n",
      "Iteration 160, loss = 264708.01010692\n",
      "Iteration 161, loss = 264642.36305479\n",
      "Iteration 162, loss = 264505.96678320\n",
      "Iteration 163, loss = 264400.64477066\n",
      "Iteration 164, loss = 264282.62085182\n",
      "Iteration 165, loss = 264193.60664123\n",
      "Iteration 166, loss = 264087.24980373\n",
      "Iteration 167, loss = 263952.39458214\n",
      "Iteration 168, loss = 263870.13409958\n",
      "Iteration 169, loss = 263785.93386831\n",
      "Iteration 170, loss = 263638.36514385\n"
     ]
    }
   ],
   "source": [
    "MLP = neural_network.MLPRegressor(max_iter=200, verbose=True)\n",
    "MLP.fit(X, Y)"
   ]
  },
  {
   "cell_type": "code",
   "execution_count": 36,
   "metadata": {
    "collapsed": false,
    "deletable": true,
    "editable": true
   },
   "outputs": [
    {
     "name": "stdout",
     "output_type": "stream",
     "text": [
      "144942.48414\n"
     ]
    }
   ],
   "source": [
    "Y_cv = MLP.predict(X[-1000:])\n",
    "print mse(Y[-1000:], Y_cv)"
   ]
  },
  {
   "cell_type": "code",
   "execution_count": 37,
   "metadata": {
    "collapsed": true,
    "deletable": true,
    "editable": true
   },
   "outputs": [],
   "source": [
    "import pickle\n",
    "pickle.dump(MLP, open(\"mlp_model.p\", \"wb\"))"
   ]
  },
  {
   "cell_type": "code",
   "execution_count": 66,
   "metadata": {
    "collapsed": true
   },
   "outputs": [],
   "source": [
    "MLP = pickle.load('mlp_model.p')"
   ]
  },
  {
   "cell_type": "code",
   "execution_count": 67,
   "metadata": {
    "collapsed": true,
    "deletable": true,
    "editable": true
   },
   "outputs": [],
   "source": [
    "test = np.loadtxt('data/test.csv', dtype='string', delimiter=',')"
   ]
  },
  {
   "cell_type": "code",
   "execution_count": 38,
   "metadata": {
    "collapsed": true,
    "deletable": true,
    "editable": true
   },
   "outputs": [],
   "source": [
    "elt_list = []\n",
    "for t in train:\n",
    "    elt_list.append(float(t[2]))\n",
    "elist = sorted(elt_list)\n",
    "global_median = elist[train.shape[0] / 2]"
   ]
  },
  {
   "cell_type": "code",
   "execution_count": null,
   "metadata": {
    "collapsed": false,
    "deletable": true,
    "editable": true
   },
   "outputs": [],
   "source": [
    "print tac[0]\n",
    "def get_artist_labels():\n",
    "    d = {}\n",
    "    for i in range(len(tac)):\n",
    "        if tac[i][1] not in d:\n",
    "            d[train[i][1]] = int(tac[i][1])\n",
    "    return d\n",
    "art_labels = get_artist_labels()"
   ]
  },
  {
   "cell_type": "code",
   "execution_count": 71,
   "metadata": {
    "collapsed": false,
    "deletable": true,
    "editable": true
   },
   "outputs": [
    {
     "ename": "AttributeError",
     "evalue": "'numpy.ndarray' object has no attribute 'predict'",
     "output_type": "error",
     "traceback": [
      "\u001b[0;31m---------------------------------------------------------------------------\u001b[0m",
      "\u001b[0;31mAttributeError\u001b[0m                            Traceback (most recent call last)",
      "\u001b[0;32m<ipython-input-71-cb7d769dac52>\u001b[0m in \u001b[0;36m<module>\u001b[0;34m()\u001b[0m\n\u001b[1;32m     46\u001b[0m                     \u001b[0mx\u001b[0m \u001b[0;34m=\u001b[0m \u001b[0mnp\u001b[0m\u001b[0;34m.\u001b[0m\u001b[0marray\u001b[0m\u001b[0;34m(\u001b[0m\u001b[0;34m[\u001b[0m\u001b[0mtemp_x\u001b[0m\u001b[0;34m]\u001b[0m\u001b[0;34m)\u001b[0m\u001b[0;34m\u001b[0m\u001b[0m\n\u001b[1;32m     47\u001b[0m \u001b[0;34m\u001b[0m\u001b[0m\n\u001b[0;32m---> 48\u001b[0;31m                     \u001b[0msoln_csv\u001b[0m\u001b[0;34m.\u001b[0m\u001b[0mwriterow\u001b[0m\u001b[0;34m(\u001b[0m\u001b[0;34m[\u001b[0m\u001b[0mid\u001b[0m\u001b[0;34m,\u001b[0m \u001b[0mMLP\u001b[0m\u001b[0;34m.\u001b[0m\u001b[0mpredict\u001b[0m\u001b[0;34m(\u001b[0m\u001b[0mx\u001b[0m\u001b[0;34m)\u001b[0m\u001b[0;34m]\u001b[0m\u001b[0;34m)\u001b[0m\u001b[0;34m\u001b[0m\u001b[0m\n\u001b[0m\u001b[1;32m     49\u001b[0m             \u001b[0;32melse\u001b[0m\u001b[0;34m:\u001b[0m\u001b[0;34m\u001b[0m\u001b[0m\n\u001b[1;32m     50\u001b[0m                 \u001b[0msoln_csv\u001b[0m\u001b[0;34m.\u001b[0m\u001b[0mwriterow\u001b[0m\u001b[0;34m(\u001b[0m\u001b[0;34m[\u001b[0m\u001b[0mid\u001b[0m\u001b[0;34m,\u001b[0m \u001b[0mglobal_median\u001b[0m \u001b[0;34m+\u001b[0m \u001b[0;36m120.0\u001b[0m\u001b[0;34m]\u001b[0m\u001b[0;34m)\u001b[0m\u001b[0;34m\u001b[0m\u001b[0m\n",
      "\u001b[0;31mAttributeError\u001b[0m: 'numpy.ndarray' object has no attribute 'predict'"
     ]
    }
   ],
   "source": [
    "import csv\n",
    "\n",
    "soln_file = 'data/mlp_real.csv'\n",
    "\n",
    "with open('data/test.csv', 'r') as test_fh:\n",
    "# with open('data/train.csv', 'r') as test_fh:\n",
    "    test_reader = csv.reader(test_fh, delimiter=',', quotechar='\"')\n",
    "    next(test_reader, None)\n",
    "    \n",
    "#     print test.shape\n",
    "\n",
    "    with open(soln_file, 'w') as soln_fh:\n",
    "        soln_csv = csv.writer(soln_fh,\n",
    "                              delimiter=',',\n",
    "                              quotechar='\"',\n",
    "                              quoting=csv.QUOTE_MINIMAL)\n",
    "        soln_csv.writerow(['Id', 'plays'])\n",
    "        \n",
    "        count = 0\n",
    "        for row in test_reader:\n",
    "            id     = row[0]\n",
    "            user   = row[1]\n",
    "            artist = row[2]\n",
    "            \n",
    "            if artist in art_labels and user in prof_dict:\n",
    "                    p = prof_dict[user]\n",
    "\n",
    "                    temp_x = []\n",
    "                    temp_x += make_one_hot(200, labels[p])\n",
    "                    temp_x += make_one_hot(50, art_labels[artist])\n",
    "\n",
    "                    if profiles[p][1] == 'f':\n",
    "                        temp_x += make_one_hot(3, 0)\n",
    "                    elif profiles[p][1] == 'm':\n",
    "                        temp_x += make_one_hot(3, 1)\n",
    "                    else:\n",
    "                        temp_x += make_one_hot(3, 2)\n",
    "\n",
    "                    if profiles[p][2] == '':\n",
    "                        temp_x += make_one_hot(121, 120)\n",
    "                    else:\n",
    "                        temp_x += make_one_hot(121, int(profiles[p][2]))\n",
    "\n",
    "                    temp_x += nation_dict[profiles[p][3]]\n",
    "\n",
    "                    x = np.array([temp_x])\n",
    "\n",
    "                    soln_csv.writerow([id, MLP.predict(x)])\n",
    "            else:\n",
    "                soln_csv.writerow([id, global_median + 120.0])\n",
    "                \n",
    "            if count % 10000 == 0:\n",
    "                print count"
   ]
  },
  {
   "cell_type": "code",
   "execution_count": null,
   "metadata": {
    "collapsed": true,
    "deletable": true,
    "editable": true
   },
   "outputs": [],
   "source": []
  }
 ],
 "metadata": {
  "kernelspec": {
   "display_name": "Python 2",
   "language": "python",
   "name": "python2"
  },
  "language_info": {
   "codemirror_mode": {
    "name": "ipython",
    "version": 2
   },
   "file_extension": ".py",
   "mimetype": "text/x-python",
   "name": "python",
   "nbconvert_exporter": "python",
   "pygments_lexer": "ipython2",
   "version": "2.7.12"
  }
 },
 "nbformat": 4,
 "nbformat_minor": 2
}
