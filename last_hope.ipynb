{
 "cells": [
  {
   "cell_type": "code",
   "execution_count": 30,
   "metadata": {
    "collapsed": true
   },
   "outputs": [],
   "source": [
    "import numpy as np\n",
    "from sklearn import neural_network"
   ]
  },
  {
   "cell_type": "code",
   "execution_count": 8,
   "metadata": {
    "collapsed": true
   },
   "outputs": [],
   "source": [
    "cc = np.load('cluster_centers.npy')\n",
    "labels = np.load('labels.npy')\n",
    "tac = np.load('train_art_clusters.npy')"
   ]
  },
  {
   "cell_type": "code",
   "execution_count": 4,
   "metadata": {
    "collapsed": false
   },
   "outputs": [
    {
     "name": "stdout",
     "output_type": "stream",
     "text": [
      "(200, 50)\n"
     ]
    }
   ],
   "source": [
    "print cc.shape"
   ]
  },
  {
   "cell_type": "code",
   "execution_count": 9,
   "metadata": {
    "collapsed": false
   },
   "outputs": [
    {
     "name": "stdout",
     "output_type": "stream",
     "text": [
      "(1048575, 3)\n"
     ]
    }
   ],
   "source": [
    "print tac.shape"
   ]
  },
  {
   "cell_type": "code",
   "execution_count": 6,
   "metadata": {
    "collapsed": false
   },
   "outputs": [
    {
     "name": "stdout",
     "output_type": "stream",
     "text": [
      "(233286,)\n"
     ]
    }
   ],
   "source": [
    "print labels.shape"
   ]
  },
  {
   "cell_type": "code",
   "execution_count": 21,
   "metadata": {
    "collapsed": false
   },
   "outputs": [
    {
     "name": "stdout",
     "output_type": "stream",
     "text": [
      "[['03098741-08b3-4dd7-b3f6-1b0bfa2c879c' 'Liars']\n",
      " ['69c4cc43-8163-41c5-ac81-30946d27bb69' 'CunninLynguists']\n",
      " ['7a2e6b55-f149-4e74-be6a-30a1b1a387bb' 'The Desert Sessions']\n",
      " ..., \n",
      " ['8974da95-e631-45aa-8fd7-aa0c2795f997' 'Harry Gregson-Williams']\n",
      " ['8067c102-4996-42bc-9980-06ce2e644eae' 'Soul Coughing']\n",
      " ['39c2a93d-9afa-4a22-9bba-c087ab056e1c' 'Jefferson Airplane']]\n",
      "(233286, 4)\n"
     ]
    }
   ],
   "source": [
    "# relies on chopping off column headers ahead of time. \n",
    "artists = np.loadtxt('data/artists.csv', dtype='string', delimiter=',')\n",
    "print artists\n",
    "profiles = np.loadtxt('data/profiles_fixed.csv', dtype='string', delimiter=',')\n",
    "print profiles.shape\n",
    "\n",
    "# fixing erroneous, irrelevant ages like 1002\n",
    "max_age = 120\n",
    "# total = 0\n",
    "# count = 0\n",
    "for p in profiles:\n",
    "    if p[2] != '' and (int(p[2]) >= max_age or int(p[2]) < 0):\n",
    "        # 22 is the average age of those who put down ages within a reasonable range\n",
    "        p[2] = '22'\n",
    "\n",
    "art_dict = {}\n",
    "count = 0\n",
    "for a in artists:\n",
    "    art_dict[a[0]] = count\n",
    "    count += 1\n",
    "    \n",
    "prof_dict = {}\n",
    "count = 0\n",
    "for a in profiles:\n",
    "    prof_dict[a[0]] = count\n",
    "    count += 1\n",
    "    \n",
    "nation_dict = {}\n",
    "count = 0\n",
    "for p in profiles:\n",
    "    if p[3] not in nation_dict:\n",
    "        nation_dict[p[3]] = None\n",
    "num_nations = len(nation_dict)\n",
    "count = 0\n",
    "for key in nation_dict.keys():\n",
    "    nation_dict[key] = [0] * num_nations\n",
    "    nation_dict[key][count] = 1\n",
    "    count += 1"
   ]
  },
  {
   "cell_type": "code",
   "execution_count": 18,
   "metadata": {
    "collapsed": true
   },
   "outputs": [],
   "source": [
    "train = np.loadtxt('data/train_fixed.csv', dtype='string', delimiter=',')"
   ]
  },
  {
   "cell_type": "code",
   "execution_count": 12,
   "metadata": {
    "collapsed": true
   },
   "outputs": [],
   "source": [
    "def make_one_hot(length, n):\n",
    "    lst = [0] * length\n",
    "    lst[n] = 1\n",
    "    return lst"
   ]
  },
  {
   "cell_type": "code",
   "execution_count": 26,
   "metadata": {
    "collapsed": false
   },
   "outputs": [],
   "source": [
    "pre_X = []\n",
    "pre_Y = []\n",
    "count = 0\n",
    "for t in train[:1048575]:\n",
    "# for t in train[:10]:\n",
    "    p = prof_dict[t[0]]\n",
    "    \n",
    "    temp_x = []\n",
    "    temp_x += make_one_hot(200, labels[p])\n",
    "    temp_x += make_one_hot(50, int(tac[count][1]))\n",
    "    \n",
    "    if profiles[p][1] == 'f':\n",
    "        temp_x += make_one_hot(3, 0)\n",
    "    elif profiles[p][1] == 'm':\n",
    "        temp_x += make_one_hot(3, 1)\n",
    "    else:\n",
    "        temp_x += make_one_hot(3, 2)\n",
    "        \n",
    "    if profiles[p][2] == '':\n",
    "        temp_x += make_one_hot(121, 120)\n",
    "    else:\n",
    "        temp_x += make_one_hot(121, int(profiles[p][2]))\n",
    "        \n",
    "    temp_x += nation_dict[profiles[p][3]]\n",
    "        \n",
    "    pre_X.append(temp_x)\n",
    "    \n",
    "    pre_Y.append(int(t[2]))\n",
    "    \n",
    "    count += 1"
   ]
  },
  {
   "cell_type": "code",
   "execution_count": 27,
   "metadata": {
    "collapsed": false
   },
   "outputs": [
    {
     "name": "stdout",
     "output_type": "stream",
     "text": [
      "[[0 0 0 ..., 0 0 0]\n",
      " [0 0 0 ..., 0 0 0]\n",
      " [0 0 0 ..., 0 0 0]\n",
      " ..., \n",
      " [0 0 0 ..., 0 0 0]\n",
      " [0 0 0 ..., 0 0 0]\n",
      " [0 0 0 ..., 0 0 0]]\n",
      "[554  81 708 ..., 230  66 284]\n"
     ]
    }
   ],
   "source": [
    "X = np.array(pre_X)\n",
    "Y = np.array(pre_Y)"
   ]
  },
  {
   "cell_type": "code",
   "execution_count": null,
   "metadata": {
    "collapsed": true
   },
   "outputs": [],
   "source": [
    "def mse(Y, Y_cv):\n",
    "    diff = Y_cv - Y\n",
    "    d_sq = np.square(diff)\n",
    "    mse_res = np.mean(d_sq)\n",
    "    return mse_res"
   ]
  },
  {
   "cell_type": "code",
   "execution_count": null,
   "metadata": {
    "collapsed": false
   },
   "outputs": [],
   "source": [
    "MLP = neural_network.MLPRegressor(max_iter = 200)\n",
    "MLP.fit(X[:-1000], Y[:-1000])"
   ]
  },
  {
   "cell_type": "code",
   "execution_count": null,
   "metadata": {
    "collapsed": true
   },
   "outputs": [],
   "source": [
    "Y_cv = MLP.predict(X[-1000:])\n",
    "print mse(Y[-1000:], Y_cv)"
   ]
  }
 ],
 "metadata": {
  "kernelspec": {
   "display_name": "Python 2",
   "language": "python",
   "name": "python2"
  },
  "language_info": {
   "codemirror_mode": {
    "name": "ipython",
    "version": 2
   },
   "file_extension": ".py",
   "mimetype": "text/x-python",
   "name": "python",
   "nbconvert_exporter": "python",
   "pygments_lexer": "ipython2",
   "version": "2.7.12"
  }
 },
 "nbformat": 4,
 "nbformat_minor": 2
}
