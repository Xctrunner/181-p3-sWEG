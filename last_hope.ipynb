{
 "cells": [
  {
   "cell_type": "code",
   "execution_count": 61,
   "metadata": {
    "collapsed": true,
    "deletable": true,
    "editable": true
   },
   "outputs": [],
   "source": [
    "import numpy as np\n",
    "from sklearn import neural_network"
   ]
  },
  {
   "cell_type": "code",
   "execution_count": 8,
   "metadata": {
    "collapsed": true,
    "deletable": true,
    "editable": true
   },
   "outputs": [],
   "source": [
    "cc = np.load('cluster_centers.npy')\n",
    "labels = np.load('labels.npy')\n",
    "tac = np.load('train_art_clusters.npy')"
   ]
  },
  {
   "cell_type": "code",
   "execution_count": 4,
   "metadata": {
    "collapsed": false,
    "deletable": true,
    "editable": true
   },
   "outputs": [
    {
     "name": "stdout",
     "output_type": "stream",
     "text": [
      "(200, 50)\n"
     ]
    }
   ],
   "source": [
    "print cc.shape"
   ]
  },
  {
   "cell_type": "code",
   "execution_count": 9,
   "metadata": {
    "collapsed": false,
    "deletable": true,
    "editable": true
   },
   "outputs": [
    {
     "name": "stdout",
     "output_type": "stream",
     "text": [
      "(1048575, 3)\n"
     ]
    }
   ],
   "source": [
    "print tac.shape"
   ]
  },
  {
   "cell_type": "code",
   "execution_count": 6,
   "metadata": {
    "collapsed": false,
    "deletable": true,
    "editable": true
   },
   "outputs": [
    {
     "name": "stdout",
     "output_type": "stream",
     "text": [
      "(233286,)\n"
     ]
    }
   ],
   "source": [
    "print labels.shape"
   ]
  },
  {
   "cell_type": "code",
   "execution_count": 62,
   "metadata": {
    "collapsed": false,
    "deletable": true,
    "editable": true
   },
   "outputs": [
    {
     "name": "stdout",
     "output_type": "stream",
     "text": [
      "[['03098741-08b3-4dd7-b3f6-1b0bfa2c879c' 'Liars']\n",
      " ['69c4cc43-8163-41c5-ac81-30946d27bb69' 'CunninLynguists']\n",
      " ['7a2e6b55-f149-4e74-be6a-30a1b1a387bb' 'The Desert Sessions']\n",
      " ..., \n",
      " ['8974da95-e631-45aa-8fd7-aa0c2795f997' 'Harry Gregson-Williams']\n",
      " ['8067c102-4996-42bc-9980-06ce2e644eae' 'Soul Coughing']\n",
      " ['39c2a93d-9afa-4a22-9bba-c087ab056e1c' 'Jefferson Airplane']]\n",
      "(233286, 4)\n"
     ]
    }
   ],
   "source": [
    "# relies on chopping off column headers ahead of time. \n",
    "artists = np.loadtxt('data/artists.csv', dtype='string', delimiter=',')\n",
    "print artists\n",
    "profiles = np.loadtxt('data/profiles_fixed.csv', dtype='string', delimiter=',')\n",
    "print profiles.shape\n",
    "\n",
    "# fixing erroneous, irrelevant ages like 1002\n",
    "max_age = 120\n",
    "# total = 0\n",
    "# count = 0\n",
    "for p in profiles:\n",
    "    if p[2] != '' and (int(p[2]) >= max_age or int(p[2]) < 0):\n",
    "        # 22 is the average age of those who put down ages within a reasonable range\n",
    "        p[2] = '22'\n",
    "\n",
    "art_dict = {}\n",
    "count = 0\n",
    "for a in artists:\n",
    "    art_dict[a[0]] = count\n",
    "    count += 1\n",
    "    \n",
    "prof_dict = {}\n",
    "count = 0\n",
    "for a in profiles:\n",
    "    prof_dict[a[0]] = count\n",
    "    count += 1\n",
    "    \n",
    "nation_dict = {}\n",
    "count = 0\n",
    "for p in profiles:\n",
    "    if p[3] not in nation_dict:\n",
    "        nation_dict[p[3]] = None\n",
    "num_nations = len(nation_dict)\n",
    "count = 0\n",
    "for key in nation_dict.keys():\n",
    "    nation_dict[key] = [0] * num_nations\n",
    "    nation_dict[key][count] = 1\n",
    "    count += 1"
   ]
  },
  {
   "cell_type": "code",
   "execution_count": 63,
   "metadata": {
    "collapsed": true,
    "deletable": true,
    "editable": true
   },
   "outputs": [],
   "source": [
    "train = np.loadtxt('data/train_fixed.csv', dtype='string', delimiter=',')"
   ]
  },
  {
   "cell_type": "code",
   "execution_count": 64,
   "metadata": {
    "collapsed": true,
    "deletable": true,
    "editable": true
   },
   "outputs": [],
   "source": [
    "def make_one_hot(length, n):\n",
    "    lst = [0] * length\n",
    "    lst[n] = 1\n",
    "    return lst"
   ]
  },
  {
   "cell_type": "code",
   "execution_count": 26,
   "metadata": {
    "collapsed": false,
    "deletable": true,
    "editable": true
   },
   "outputs": [],
   "source": [
    "pre_X = []\n",
    "pre_Y = []\n",
    "count = 0\n",
    "for t in train[:1048575]:\n",
    "# for t in train[:10]:\n",
    "    p = prof_dict[t[0]]\n",
    "    \n",
    "    temp_x = []\n",
    "    temp_x += make_one_hot(200, labels[p])\n",
    "    temp_x += make_one_hot(50, int(tac[count][1]))\n",
    "    \n",
    "    if profiles[p][1] == 'f':\n",
    "        temp_x += make_one_hot(3, 0)\n",
    "    elif profiles[p][1] == 'm':\n",
    "        temp_x += make_one_hot(3, 1)\n",
    "    else:\n",
    "        temp_x += make_one_hot(3, 2)\n",
    "        \n",
    "    if profiles[p][2] == '':\n",
    "        temp_x += make_one_hot(121, 120)\n",
    "    else:\n",
    "        temp_x += make_one_hot(121, int(profiles[p][2]))\n",
    "        \n",
    "    temp_x += nation_dict[profiles[p][3]]\n",
    "        \n",
    "    pre_X.append(temp_x)\n",
    "    \n",
    "    pre_Y.append(int(t[2]))\n",
    "    \n",
    "    count += 1"
   ]
  },
  {
   "cell_type": "code",
   "execution_count": 27,
   "metadata": {
    "collapsed": false,
    "deletable": true,
    "editable": true
   },
   "outputs": [
    {
     "name": "stdout",
     "output_type": "stream",
     "text": [
      "[[0 0 0 ..., 0 0 0]\n",
      " [0 0 0 ..., 0 0 0]\n",
      " [0 0 0 ..., 0 0 0]\n",
      " ..., \n",
      " [0 0 0 ..., 0 0 0]\n",
      " [0 0 0 ..., 0 0 0]\n",
      " [0 0 0 ..., 0 0 0]]\n",
      "[554  81 708 ..., 230  66 284]\n"
     ]
    }
   ],
   "source": [
    "X = np.array(pre_X)\n",
    "Y = np.array(pre_Y)"
   ]
  },
  {
   "cell_type": "code",
   "execution_count": 65,
   "metadata": {
    "collapsed": true,
    "deletable": true,
    "editable": true
   },
   "outputs": [],
   "source": [
    "def mse(Y, Y_cv):\n",
    "    diff = Y_cv - Y\n",
    "    d_sq = np.square(diff)\n",
    "    mse_res = np.mean(d_sq)\n",
    "    return mse_res"
   ]
  },
  {
   "cell_type": "code",
   "execution_count": 72,
   "metadata": {
    "collapsed": false,
    "deletable": true,
    "editable": true
   },
   "outputs": [
    {
     "name": "stdout",
     "output_type": "stream",
     "text": [
      "Iteration 1, loss = 319097.67500054\n",
      "Iteration 2, loss = 299663.07319329\n",
      "Iteration 3, loss = 294541.12457682\n",
      "Iteration 4, loss = 291878.43829243\n",
      "Iteration 5, loss = 290117.92648822\n",
      "Iteration 6, loss = 288792.43514116\n",
      "Iteration 7, loss = 287775.12603029\n",
      "Iteration 8, loss = 286936.67536880\n",
      "Iteration 9, loss = 286264.29826525\n",
      "Iteration 10, loss = 285683.73858215\n",
      "Iteration 11, loss = 285219.90430750\n",
      "Iteration 12, loss = 284799.68837347\n",
      "Iteration 13, loss = 284444.97253445\n",
      "Iteration 14, loss = 284112.93953250\n",
      "Iteration 15, loss = 283786.50531307\n",
      "Iteration 16, loss = 283518.14733265\n",
      "Iteration 17, loss = 283246.69709349\n",
      "Iteration 18, loss = 282998.42572028\n",
      "Iteration 19, loss = 282761.22661641\n",
      "Iteration 20, loss = 282537.95932575\n",
      "Iteration 21, loss = 282322.33041414\n",
      "Iteration 22, loss = 282131.33000825\n",
      "Iteration 23, loss = 281897.45422551\n",
      "Iteration 24, loss = 281711.91342968\n",
      "Iteration 25, loss = 281548.05709230\n",
      "Iteration 26, loss = 281345.99843318\n",
      "Iteration 27, loss = 281175.87307260\n",
      "Iteration 28, loss = 280998.23125692\n",
      "Iteration 29, loss = 280832.36988492\n",
      "Iteration 30, loss = 280642.92274166\n",
      "Iteration 31, loss = 280502.83785051\n",
      "Iteration 32, loss = 280318.90759802\n",
      "Iteration 33, loss = 280188.22182978\n",
      "Iteration 34, loss = 280009.44091113\n",
      "Iteration 35, loss = 279849.18651614\n",
      "Iteration 36, loss = 279684.22288050\n",
      "Iteration 37, loss = 279535.97570733\n",
      "Iteration 38, loss = 279362.50300453\n",
      "Iteration 39, loss = 279206.27486982\n",
      "Iteration 40, loss = 279077.01280617\n",
      "Iteration 41, loss = 278900.11531581\n",
      "Iteration 42, loss = 278772.86029916\n",
      "Iteration 43, loss = 278581.09688532\n",
      "Iteration 44, loss = 278461.28533014\n",
      "Iteration 45, loss = 278326.46686162\n",
      "Iteration 46, loss = 278139.01023040\n",
      "Iteration 47, loss = 278040.06698121\n",
      "Iteration 48, loss = 277871.07942258\n",
      "Iteration 49, loss = 277721.38928998\n",
      "Iteration 50, loss = 277593.96870064\n",
      "Iteration 51, loss = 277467.38727294\n",
      "Iteration 52, loss = 277319.10138532\n",
      "Iteration 53, loss = 277155.44513778\n",
      "Iteration 54, loss = 277043.52441189\n",
      "Iteration 55, loss = 276913.48548548\n",
      "Iteration 56, loss = 276766.45927956\n",
      "Iteration 57, loss = 276633.08447094\n",
      "Iteration 58, loss = 276507.11865467\n",
      "Iteration 59, loss = 276383.70098981\n",
      "Iteration 60, loss = 276229.40080998\n",
      "Iteration 61, loss = 276125.29156366\n",
      "Iteration 62, loss = 275963.82432369\n",
      "Iteration 63, loss = 275836.87085851\n",
      "Iteration 64, loss = 275710.05598688\n",
      "Iteration 65, loss = 275602.89308468\n",
      "Iteration 66, loss = 275434.73638486\n",
      "Iteration 67, loss = 275341.86818622\n",
      "Iteration 68, loss = 275207.35196131\n",
      "Iteration 69, loss = 275079.89002005\n",
      "Iteration 70, loss = 274982.75477212\n",
      "Iteration 71, loss = 274839.57060253\n",
      "Iteration 72, loss = 274707.71366338\n",
      "Iteration 73, loss = 274562.75359373\n",
      "Iteration 74, loss = 274447.84251256\n",
      "Iteration 75, loss = 274311.79332354\n",
      "Iteration 76, loss = 274209.87531944\n",
      "Iteration 77, loss = 274073.25725711\n",
      "Iteration 78, loss = 273960.19895720\n",
      "Iteration 79, loss = 273861.25877552\n",
      "Iteration 80, loss = 273709.55012200\n",
      "Iteration 81, loss = 273567.04234348\n",
      "Iteration 82, loss = 273452.22617084\n",
      "Iteration 83, loss = 273370.80548568\n",
      "Iteration 84, loss = 273239.11609300\n",
      "Iteration 85, loss = 273120.43004938\n",
      "Iteration 86, loss = 272974.64040690\n",
      "Iteration 87, loss = 272858.74722671\n",
      "Iteration 88, loss = 272780.39721956\n",
      "Iteration 89, loss = 272664.55964280\n",
      "Iteration 90, loss = 272530.69298836\n",
      "Iteration 91, loss = 272441.05118656\n",
      "Iteration 92, loss = 272282.44583949\n",
      "Iteration 93, loss = 272206.96421584\n",
      "Iteration 94, loss = 272107.66795010\n",
      "Iteration 95, loss = 271959.45428596\n",
      "Iteration 96, loss = 271866.34064216\n",
      "Iteration 97, loss = 271706.46045954\n",
      "Iteration 98, loss = 271635.21661793\n",
      "Iteration 99, loss = 271512.19184311\n",
      "Iteration 100, loss = 271403.93920018\n",
      "Iteration 101, loss = 271312.54392477\n",
      "Iteration 102, loss = 271172.61040110\n",
      "Iteration 103, loss = 271085.30689892\n",
      "Iteration 104, loss = 270983.86565229\n",
      "Iteration 105, loss = 270860.48078062\n",
      "Iteration 106, loss = 270760.40649705\n",
      "Iteration 107, loss = 270601.44846290\n",
      "Iteration 108, loss = 270501.14740549\n",
      "Iteration 109, loss = 270408.87680506\n",
      "Iteration 110, loss = 270308.57117733\n",
      "Iteration 111, loss = 270170.39545894\n",
      "Iteration 112, loss = 270059.51090732\n",
      "Iteration 113, loss = 269887.58334023\n",
      "Iteration 114, loss = 269804.02928275\n",
      "Iteration 115, loss = 269710.80475281\n",
      "Iteration 116, loss = 269563.85721086\n",
      "Iteration 117, loss = 269470.30689765\n",
      "Iteration 118, loss = 269371.32098157\n",
      "Iteration 119, loss = 269218.95184266\n",
      "Iteration 120, loss = 269142.08625009\n",
      "Iteration 121, loss = 269055.27086171\n",
      "Iteration 122, loss = 268939.65836374\n",
      "Iteration 123, loss = 268830.72921129\n",
      "Iteration 124, loss = 268740.76447282\n",
      "Iteration 125, loss = 268636.63673456\n",
      "Iteration 126, loss = 268510.12376049\n",
      "Iteration 127, loss = 268411.54930680\n",
      "Iteration 128, loss = 268278.09241915\n",
      "Iteration 129, loss = 268164.64025625\n",
      "Iteration 130, loss = 268037.12994801\n",
      "Iteration 131, loss = 267900.25774659\n",
      "Iteration 132, loss = 267782.63209981\n",
      "Iteration 133, loss = 267685.30569120\n",
      "Iteration 134, loss = 267599.11677102\n",
      "Iteration 135, loss = 267527.15178316\n",
      "Iteration 136, loss = 267378.84327863\n",
      "Iteration 137, loss = 267267.64323319\n",
      "Iteration 138, loss = 267146.74386871\n",
      "Iteration 139, loss = 267067.81462424\n",
      "Iteration 140, loss = 266922.69851822\n",
      "Iteration 141, loss = 266829.64597155\n",
      "Iteration 142, loss = 266736.03699875\n",
      "Iteration 143, loss = 266609.73495391\n",
      "Iteration 144, loss = 266533.40884644\n",
      "Iteration 145, loss = 266401.29846012\n",
      "Iteration 146, loss = 266304.28612462\n",
      "Iteration 147, loss = 266146.07078410\n",
      "Iteration 148, loss = 266074.06785807\n",
      "Iteration 149, loss = 265966.73164759\n",
      "Iteration 150, loss = 265837.29393520\n",
      "Iteration 151, loss = 265725.17277835\n",
      "Iteration 152, loss = 265601.10614889\n",
      "Iteration 153, loss = 265526.83578524\n",
      "Iteration 154, loss = 265413.92118321\n",
      "Iteration 155, loss = 265331.56395134\n",
      "Iteration 156, loss = 265201.80673205\n",
      "Iteration 157, loss = 265060.46997906\n",
      "Iteration 158, loss = 264948.34512833\n",
      "Iteration 159, loss = 264833.94499745\n",
      "Iteration 160, loss = 264708.01010692\n",
      "Iteration 161, loss = 264642.36305479\n",
      "Iteration 162, loss = 264505.96678320\n",
      "Iteration 163, loss = 264400.64477066\n",
      "Iteration 164, loss = 264282.62085182\n",
      "Iteration 165, loss = 264193.60664123\n",
      "Iteration 166, loss = 264087.24980373\n",
      "Iteration 167, loss = 263952.39458214\n",
      "Iteration 168, loss = 263870.13409958\n",
      "Iteration 169, loss = 263785.93386831\n",
      "Iteration 170, loss = 263638.36514385\n",
      "Iteration 171, loss = 263604.81839970\n",
      "Iteration 172, loss = 263481.49199968\n",
      "Iteration 173, loss = 263365.05617868\n",
      "Iteration 174, loss = 263216.07321238\n",
      "Iteration 175, loss = 263132.92759214\n",
      "Iteration 176, loss = 263020.32544546\n",
      "Iteration 177, loss = 262905.68670927\n",
      "Iteration 178, loss = 262818.74516191\n",
      "Iteration 179, loss = 262797.03315752\n",
      "Iteration 180, loss = 262634.71653084\n",
      "Iteration 181, loss = 262538.48957182\n",
      "Iteration 182, loss = 262380.66790802\n",
      "Iteration 183, loss = 262355.11529089\n",
      "Iteration 184, loss = 262205.22822599\n",
      "Iteration 185, loss = 262087.00948158\n",
      "Iteration 186, loss = 262041.39579150\n",
      "Iteration 187, loss = 261969.93744215\n",
      "Iteration 188, loss = 261779.11220678\n",
      "Iteration 189, loss = 261709.36392991\n",
      "Iteration 190, loss = 261628.34144692\n",
      "Iteration 191, loss = 261487.97896651\n",
      "Iteration 192, loss = 261409.70143176\n",
      "Iteration 193, loss = 261376.58666808\n",
      "Iteration 194, loss = 261200.01725487\n",
      "Iteration 195, loss = 261171.43348768\n",
      "Iteration 196, loss = 261026.31159636\n",
      "Iteration 197, loss = 260917.17722119\n",
      "Iteration 198, loss = 260818.96074324\n",
      "Iteration 199, loss = 260776.43258894\n",
      "Iteration 200, loss = 260624.86464994\n"
     ]
    },
    {
     "data": {
      "text/plain": [
       "MLPRegressor(activation='relu', alpha=0.0001, batch_size='auto', beta_1=0.9,\n",
       "       beta_2=0.999, early_stopping=False, epsilon=1e-08,\n",
       "       hidden_layer_sizes=(100,), learning_rate='constant',\n",
       "       learning_rate_init=0.001, max_iter=200, momentum=0.9,\n",
       "       nesterovs_momentum=True, power_t=0.5, random_state=None,\n",
       "       shuffle=True, solver='adam', tol=0.0001, validation_fraction=0.1,\n",
       "       verbose=True, warm_start=False)"
      ]
     },
     "execution_count": 72,
     "metadata": {},
     "output_type": "execute_result"
    }
   ],
   "source": [
    "MLP = neural_network.MLPRegressor(max_iter=200, verbose=True)\n",
    "MLP.fit(X, Y)"
   ]
  },
  {
   "cell_type": "code",
   "execution_count": 73,
   "metadata": {
    "collapsed": false,
    "deletable": true,
    "editable": true
   },
   "outputs": [
    {
     "name": "stdout",
     "output_type": "stream",
     "text": [
      "145067.34981\n"
     ]
    }
   ],
   "source": [
    "Y_cv = MLP.predict(X[-1000:])\n",
    "print mse(Y[-1000:], Y_cv)"
   ]
  },
  {
   "cell_type": "code",
   "execution_count": 74,
   "metadata": {
    "collapsed": true,
    "deletable": true,
    "editable": true
   },
   "outputs": [],
   "source": [
    "import pickle\n",
    "pickle.dump(MLP, open(\"mlp_model.p\", \"wb\"))"
   ]
  },
  {
   "cell_type": "code",
   "execution_count": 66,
   "metadata": {
    "collapsed": true
   },
   "outputs": [],
   "source": [
    "MLP = pickle.load('mlp_model.p')"
   ]
  },
  {
   "cell_type": "code",
   "execution_count": 67,
   "metadata": {
    "collapsed": true,
    "deletable": true,
    "editable": true
   },
   "outputs": [],
   "source": [
    "test = np.loadtxt('data/test.csv', dtype='string', delimiter=',')"
   ]
  },
  {
   "cell_type": "code",
   "execution_count": 38,
   "metadata": {
    "collapsed": true,
    "deletable": true,
    "editable": true
   },
   "outputs": [],
   "source": [
    "elt_list = []\n",
    "for t in train:\n",
    "    elt_list.append(float(t[2]))\n",
    "elist = sorted(elt_list)\n",
    "global_median = elist[train.shape[0] / 2]"
   ]
  },
  {
   "cell_type": "code",
   "execution_count": null,
   "metadata": {
    "collapsed": false,
    "deletable": true,
    "editable": true
   },
   "outputs": [],
   "source": [
    "print tac[0]\n",
    "def get_artist_labels():\n",
    "    d = {}\n",
    "    for i in range(len(tac)):\n",
    "        if tac[i][1] not in d:\n",
    "            d[train[i][1]] = int(tac[i][1])\n",
    "    return d\n",
    "art_labels = get_artist_labels()"
   ]
  },
  {
   "cell_type": "code",
   "execution_count": 78,
   "metadata": {
    "collapsed": false,
    "deletable": true,
    "editable": true
   },
   "outputs": [
    {
     "name": "stdout",
     "output_type": "stream",
     "text": [
      "0 10000 20000 30000 40000 50000 60000 70000 80000 90000 100000 110000 120000 130000 140000 150000 160000 170000 180000 190000 200000 210000 220000 230000 240000 250000 260000 270000 280000 290000 300000 310000 320000 330000 340000 350000 360000 370000 380000 390000 400000 410000 420000 430000 440000 450000 460000 470000 480000 490000 500000 510000 520000 530000 540000 550000 560000 570000 580000 590000 600000 610000 620000 630000 640000 650000 660000 670000 680000 690000 700000 710000 720000 730000 740000 750000 760000 770000 780000 790000 800000 810000 820000 830000 840000 850000 860000 870000 880000 890000 900000 910000 920000 930000 940000 950000 960000 970000 980000 990000 1000000 1010000 1020000 1030000 1040000 1050000 1060000 1070000 1080000 1090000 1100000 1110000 1120000 1130000 1140000 1150000 1160000 1170000 1180000 1190000 1200000 1210000 1220000 1230000 1240000 1250000 1260000 1270000 1280000 1290000 1300000 1310000 1320000 1330000 1340000 1350000 1360000 1370000 1380000 1390000 1400000 1410000 1420000 1430000 1440000 1450000 1460000 1470000 1480000 1490000 1500000 1510000 1520000 1530000 1540000 1550000 1560000 1570000 1580000 1590000 1600000 1610000 1620000 1630000 1640000 1650000 1660000 1670000 1680000 1690000 1700000 1710000 1720000 1730000 1740000 1750000 1760000 1770000 1780000 1790000 1800000 1810000 1820000 1830000 1840000 1850000 1860000 1870000 1880000 1890000 1900000 1910000 1920000 1930000 1940000 1950000 1960000 1970000 1980000 1990000 2000000 2010000 2020000 2030000 2040000 2050000 2060000 2070000 2080000 2090000 2100000 2110000 2120000 2130000 2140000 2150000 2160000 2170000 2180000 2190000 2200000 2210000 2220000 2230000 2240000 2250000 2260000 2270000 2280000 2290000 2300000 2310000 2320000 2330000 2340000 2350000 2360000 2370000 2380000 2390000 2400000 2410000 2420000 2430000 2440000 2450000 2460000 2470000 2480000 2490000 2500000 2510000 2520000 2530000 2540000 2550000 2560000 2570000 2580000 2590000 2600000 2610000 2620000 2630000 2640000 2650000 2660000 2670000 2680000 2690000 2700000 2710000 2720000 2730000 2740000 2750000 2760000 2770000 2780000 2790000 2800000 2810000 2820000 2830000 2840000 2850000 2860000 2870000 2880000 2890000 2900000 2910000 2920000 2930000 2940000 2950000 2960000 2970000 2980000 2990000 3000000 3010000 3020000 3030000 3040000 3050000 3060000 3070000 3080000 3090000 3100000 3110000 3120000 3130000 3140000 3150000 3160000 3170000 3180000 3190000 3200000 3210000 3220000 3230000 3240000 3250000 3260000 3270000 3280000 3290000 3300000 3310000 3320000 3330000 3340000 3350000 3360000 3370000 3380000 3390000 3400000 3410000 3420000 3430000 3440000 3450000 3460000 3470000 3480000 3490000 3500000 3510000 3520000 3530000 3540000 3550000 3560000 3570000 3580000 3590000 3600000 3610000 3620000 3630000 3640000 3650000 3660000 3670000 3680000 3690000 3700000 3710000 3720000 3730000 3740000 3750000 3760000 3770000 3780000 3790000 3800000 3810000 3820000 3830000 3840000 3850000 3860000 3870000 3880000 3890000 3900000 3910000 3920000 3930000 3940000 3950000 3960000 3970000 3980000 3990000 4000000 4010000 4020000 4030000 4040000 4050000 4060000 4070000 4080000 4090000 4100000 4110000 4120000 4130000 4140000 4150000\n"
     ]
    }
   ],
   "source": [
    "import csv\n",
    "\n",
    "soln_file = 'data/mlp_real.csv'\n",
    "\n",
    "with open('data/test.csv', 'r') as test_fh:\n",
    "# with open('data/train.csv', 'r') as test_fh:\n",
    "    test_reader = csv.reader(test_fh, delimiter=',', quotechar='\"')\n",
    "    next(test_reader, None)\n",
    "    \n",
    "#     print test.shape\n",
    "\n",
    "    with open(soln_file, 'w') as soln_fh:\n",
    "        soln_csv = csv.writer(soln_fh,\n",
    "                              delimiter=',',\n",
    "                              quotechar='\"',\n",
    "                              quoting=csv.QUOTE_MINIMAL)\n",
    "        soln_csv.writerow(['Id', 'plays'])\n",
    "        \n",
    "        count = 0\n",
    "        for row in test_reader:\n",
    "            id     = row[0]\n",
    "            user   = row[1]\n",
    "            artist = row[2]\n",
    "            \n",
    "            if artist in art_labels and user in prof_dict:\n",
    "                    p = prof_dict[user]\n",
    "\n",
    "                    temp_x = []\n",
    "                    temp_x += make_one_hot(200, labels[p])\n",
    "                    temp_x += make_one_hot(50, art_labels[artist])\n",
    "\n",
    "                    if profiles[p][1] == 'f':\n",
    "                        temp_x += make_one_hot(3, 0)\n",
    "                    elif profiles[p][1] == 'm':\n",
    "                        temp_x += make_one_hot(3, 1)\n",
    "                    else:\n",
    "                        temp_x += make_one_hot(3, 2)\n",
    "\n",
    "                    if profiles[p][2] == '':\n",
    "                        temp_x += make_one_hot(121, 120)\n",
    "                    else:\n",
    "                        temp_x += make_one_hot(121, int(profiles[p][2]))\n",
    "\n",
    "                    temp_x += nation_dict[profiles[p][3]]\n",
    "\n",
    "                    x = np.array([temp_x])\n",
    "\n",
    "                    pred = MLP.predict(x)[0]\n",
    "                    if pred > 0:\n",
    "                        soln_csv.writerow([id, MLP.predict(x)[0]])\n",
    "                    else:\n",
    "                        soln_csv.writerow([id, 0])\n",
    "            else:\n",
    "                soln_csv.writerow([id, global_median + 120.0])\n",
    "                \n",
    "            if count % 10000 == 0:\n",
    "                print count,\n",
    "            count += 1"
   ]
  },
  {
   "cell_type": "code",
   "execution_count": null,
   "metadata": {
    "collapsed": true,
    "deletable": true,
    "editable": true
   },
   "outputs": [],
   "source": []
  }
 ],
 "metadata": {
  "kernelspec": {
   "display_name": "Python 2",
   "language": "python",
   "name": "python2"
  },
  "language_info": {
   "codemirror_mode": {
    "name": "ipython",
    "version": 2
   },
   "file_extension": ".py",
   "mimetype": "text/x-python",
   "name": "python",
   "nbconvert_exporter": "python",
   "pygments_lexer": "ipython2",
   "version": "2.7.12"
  }
 },
 "nbformat": 4,
 "nbformat_minor": 2
}
