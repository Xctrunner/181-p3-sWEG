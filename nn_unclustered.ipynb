{
 "cells": [
  {
   "cell_type": "code",
   "execution_count": 3,
   "metadata": {
    "collapsed": false,
    "deletable": true,
    "editable": true
   },
   "outputs": [
    {
     "ename": "ImportError",
     "evalue": "No module named scipy",
     "output_type": "error",
     "traceback": [
      "\u001b[0;31m---------------------------------------------------------------------------\u001b[0m",
      "\u001b[0;31mImportError\u001b[0m                               Traceback (most recent call last)",
      "\u001b[0;32m<ipython-input-3-6d166b8d0567>\u001b[0m in \u001b[0;36m<module>\u001b[0;34m()\u001b[0m\n\u001b[1;32m      1\u001b[0m \u001b[1;32mimport\u001b[0m \u001b[0mnumpy\u001b[0m \u001b[1;32mas\u001b[0m \u001b[0mnp\u001b[0m\u001b[1;33m\u001b[0m\u001b[0m\n\u001b[0;32m----> 2\u001b[0;31m \u001b[1;32mimport\u001b[0m \u001b[0msklearn\u001b[0m\u001b[1;33m.\u001b[0m\u001b[0mneural_network\u001b[0m\u001b[1;33m\u001b[0m\u001b[0m\n\u001b[0m",
      "\u001b[0;32mc:\\python27\\lib\\site-packages\\sklearn\\__init__.py\u001b[0m in \u001b[0;36m<module>\u001b[0;34m()\u001b[0m\n\u001b[1;32m     55\u001b[0m \u001b[1;32melse\u001b[0m\u001b[1;33m:\u001b[0m\u001b[1;33m\u001b[0m\u001b[0m\n\u001b[1;32m     56\u001b[0m     \u001b[1;32mfrom\u001b[0m \u001b[1;33m.\u001b[0m \u001b[1;32mimport\u001b[0m \u001b[0m__check_build\u001b[0m\u001b[1;33m\u001b[0m\u001b[0m\n\u001b[0;32m---> 57\u001b[0;31m     \u001b[1;32mfrom\u001b[0m \u001b[1;33m.\u001b[0m\u001b[0mbase\u001b[0m \u001b[1;32mimport\u001b[0m \u001b[0mclone\u001b[0m\u001b[1;33m\u001b[0m\u001b[0m\n\u001b[0m\u001b[1;32m     58\u001b[0m     \u001b[0m__check_build\u001b[0m  \u001b[1;31m# avoid flakes unused variable error\u001b[0m\u001b[1;33m\u001b[0m\u001b[0m\n\u001b[1;32m     59\u001b[0m \u001b[1;33m\u001b[0m\u001b[0m\n",
      "\u001b[0;32mc:\\python27\\lib\\site-packages\\sklearn\\base.py\u001b[0m in \u001b[0;36m<module>\u001b[0;34m()\u001b[0m\n\u001b[1;32m      8\u001b[0m \u001b[1;33m\u001b[0m\u001b[0m\n\u001b[1;32m      9\u001b[0m \u001b[1;32mimport\u001b[0m \u001b[0mnumpy\u001b[0m \u001b[1;32mas\u001b[0m \u001b[0mnp\u001b[0m\u001b[1;33m\u001b[0m\u001b[0m\n\u001b[0;32m---> 10\u001b[0;31m \u001b[1;32mfrom\u001b[0m \u001b[0mscipy\u001b[0m \u001b[1;32mimport\u001b[0m \u001b[0msparse\u001b[0m\u001b[1;33m\u001b[0m\u001b[0m\n\u001b[0m\u001b[1;32m     11\u001b[0m \u001b[1;32mfrom\u001b[0m \u001b[1;33m.\u001b[0m\u001b[0mexternals\u001b[0m \u001b[1;32mimport\u001b[0m \u001b[0msix\u001b[0m\u001b[1;33m\u001b[0m\u001b[0m\n\u001b[1;32m     12\u001b[0m \u001b[1;32mfrom\u001b[0m \u001b[1;33m.\u001b[0m\u001b[0mutils\u001b[0m\u001b[1;33m.\u001b[0m\u001b[0mfixes\u001b[0m \u001b[1;32mimport\u001b[0m \u001b[0msignature\u001b[0m\u001b[1;33m\u001b[0m\u001b[0m\n",
      "\u001b[0;31mImportError\u001b[0m: No module named scipy"
     ]
    }
   ],
   "source": [
    "import numpy as np\n",
    "import sklearn.neural_network"
   ]
  },
  {
   "cell_type": "code",
   "execution_count": 3,
   "metadata": {
    "collapsed": true,
    "deletable": true,
    "editable": true
   },
   "outputs": [],
   "source": [
    "f1 = open('data/profiles.csv', 'r')\n",
    "f2 = open('data/profiles_fixed.csv', 'w')\n",
    "for line in f1:\n",
    "    line = line.replace('Micronesia, Federated States of', 'Federated States of Micronesia')\n",
    "    line = line.replace('Korea, Republic of', 'Republic of Korea')\n",
    "    line = line.replace('Iran, Islamic Republic of', 'Islamic Republic of Iran')\n",
    "    line = line.replace('Virgin Islands, British', 'British Virgin Islands')\n",
    "    line = line.replace('Korea, Democratic People\\'s Republic of', 'Democratic People\\'s Republic of Korea')\n",
    "    line = line.replace('Palestinian Territory, Occupied', 'Palestinian Territory Occupied')\n",
    "    line = line.replace('Tanzania, United Republic of', 'Tanzania United Republic of')\n",
    "    line = line.replace('Congo, the Democratic Republic of the', 'Congo the Democratic Republic of the')\n",
    "    line = line.replace('Virgin Islands, U.s.', 'Virgin Islands U.s.')\n",
    "    line = line.replace('Virgin Islands, U.s.', 'Virgin Islands U.s.')\n",
    "    f2.write(line)\n",
    "f1.close()\n",
    "f2.close()"
   ]
  },
  {
   "cell_type": "code",
   "execution_count": 4,
   "metadata": {
    "collapsed": false,
    "deletable": true,
    "editable": true
   },
   "outputs": [
    {
     "name": "stdout",
     "output_type": "stream",
     "text": [
      "[['03098741-08b3-4dd7-b3f6-1b0bfa2c879c' 'Liars']\n",
      " ['69c4cc43-8163-41c5-ac81-30946d27bb69' 'CunninLynguists']\n",
      " ['7a2e6b55-f149-4e74-be6a-30a1b1a387bb' 'The Desert Sessions']\n",
      " ..., \n",
      " ['8974da95-e631-45aa-8fd7-aa0c2795f997' 'Harry Gregson-Williams']\n",
      " ['8067c102-4996-42bc-9980-06ce2e644eae' 'Soul Coughing']\n",
      " ['39c2a93d-9afa-4a22-9bba-c087ab056e1c' 'Jefferson Airplane']]\n",
      "(233286, 4)\n"
     ]
    }
   ],
   "source": [
    "# relies on chopping off column headers ahead of time. \n",
    "artists = np.loadtxt('data/artists.csv', dtype='string', delimiter=',')\n",
    "print artists\n",
    "profiles = np.loadtxt('data/profiles_fixed.csv', dtype='string', delimiter=',')\n",
    "print profiles.shape\n",
    "\n",
    "# fixing erroneous, irrelevant ages like 1002\n",
    "max_age = 120\n",
    "for p in profiles:\n",
    "    if p[2] != '' and (int(p[2]) >= max_age or int(p[2]) < 0):\n",
    "        p[2] = ''"
   ]
  },
  {
   "cell_type": "code",
   "execution_count": 5,
   "metadata": {
    "collapsed": false,
    "deletable": true,
    "editable": true
   },
   "outputs": [],
   "source": [
    "nation_dict = {}\n",
    "count = 0\n",
    "for p in profiles:\n",
    "    if p[3] not in nation_dict:\n",
    "        nation_dict[p[3]] = None\n",
    "num_nations = len(nation_dict)\n",
    "count = 0\n",
    "for key in nation_dict.keys():\n",
    "    nation_dict[key] = np.zeros(num_nations)\n",
    "    nation_dict[key][count] = 1\n",
    "    count += 1"
   ]
  },
  {
   "cell_type": "code",
   "execution_count": 6,
   "metadata": {
    "collapsed": false,
    "deletable": true,
    "editable": true
   },
   "outputs": [
    {
     "name": "stdout",
     "output_type": "stream",
     "text": [
      "[['eb1c57ddc9e0e2d005169d3a1a96e8dd95e3af03'\n",
      "  '5a8e07d5-d932-4484-a7f7-e700793a9c94' '554']\n",
      " ['44ce793a6cd9d20f13f4a576a818ef983314bb5d'\n",
      "  'a3a92047-be1c-4f3e-8960-c4f8570984df' '81']\n",
      " ['da9cf3f557161d54b76f24db64be9cc76db008e3'\n",
      "  'eeb1195b-f213-4ce1-b28c-8565211f8e43' '708']\n",
      " ..., \n",
      " ['b464ce35f8f875fdf686fd3dc4ce165b650bde7a'\n",
      "  '199d0ab3-22c0-4c00-b99d-257f591dda1f' '29']\n",
      " ['d8ccd698ad712c26d2620dff07f27473b9173ad9'\n",
      "  'a3cb23fc-acd3-4ce0-8f36-1e5aa6a18432' '56']\n",
      " ['b7d94e5f82e157f94df6c93f283a181108f780c4'\n",
      "  '7527f6c2-d762-4b88-b5e2-9244f1e34c46' '240']]\n"
     ]
    }
   ],
   "source": [
    "train = np.loadtxt('data/train.csv', dtype='string', delimiter=',')\n",
    "print train"
   ]
  },
  {
   "cell_type": "code",
   "execution_count": 7,
   "metadata": {
    "collapsed": false,
    "deletable": true,
    "editable": true
   },
   "outputs": [],
   "source": [
    "artists_1h = {}\n",
    "num_art = len(artists)\n",
    "for a in range(num_art):\n",
    "    one_hot = np.zeros(num_art)\n",
    "    one_hot[a] = 1\n",
    "    artists_1h[artists[a][0]] = one_hot"
   ]
  },
  {
   "cell_type": "code",
   "execution_count": 8,
   "metadata": {
    "collapsed": false,
    "deletable": true,
    "editable": true
   },
   "outputs": [],
   "source": [
    "profiles_1h = {}\n",
    "num_prof = len(profiles)\n",
    "for p in range(num_prof):\n",
    "    \n",
    "#     one_hot_id = np.zeros(num_prof)\n",
    "#     one_hot_id[p] = 1\n",
    "    \n",
    "    one_hot_gender = np.zeros(3)\n",
    "    if profiles[p][1] == 'f':\n",
    "        one_hot_gender[0] = 1\n",
    "    elif profiles[p][1] == 'm':\n",
    "        one_hot_gender[1] = 1\n",
    "    else:\n",
    "        one_hot_gender[2] = 1\n",
    "\n",
    "    one_hot_age = np.zeros(max_age + 1)\n",
    "    if profiles[p][2] == '':\n",
    "        one_hot_age[max_age] = 1\n",
    "    else:\n",
    "        one_hot_age[int(profiles[p][2])] = 1\n",
    "        \n",
    "    one_hot_nation = nation_dict[profiles[p][3]]\n",
    "    \n",
    "#     profiles_1h[profiles[p][0]] = np.concatenate((one_hot_id, one_hot_gender, one_hot_age, one_hot_nation))\n",
    "    profiles_1h[profiles[p][0]] = np.concatenate((one_hot_gender, one_hot_age, one_hot_nation))"
   ]
  },
  {
   "cell_type": "code",
   "execution_count": 1,
   "metadata": {
    "collapsed": false,
    "deletable": true,
    "editable": true
   },
   "outputs": [
    {
     "ename": "NameError",
     "evalue": "name 'train' is not defined",
     "output_type": "error",
     "traceback": [
      "\u001b[0;31m---------------------------------------------------------------------------\u001b[0m",
      "\u001b[0;31mNameError\u001b[0m                                 Traceback (most recent call last)",
      "\u001b[0;32m<ipython-input-1-f827a164f0f7>\u001b[0m in \u001b[0;36m<module>\u001b[0;34m()\u001b[0m\n\u001b[1;32m      3\u001b[0m \u001b[1;31m# X = np.array(temp)\u001b[0m\u001b[1;33m\u001b[0m\u001b[1;33m\u001b[0m\u001b[0m\n\u001b[1;32m      4\u001b[0m \u001b[1;31m# Y = np.array(train[0][1])\u001b[0m\u001b[1;33m\u001b[0m\u001b[1;33m\u001b[0m\u001b[0m\n\u001b[0;32m----> 5\u001b[0;31m \u001b[0mexamples\u001b[0m \u001b[1;33m=\u001b[0m \u001b[0mlen\u001b[0m\u001b[1;33m(\u001b[0m\u001b[0mtrain\u001b[0m\u001b[1;33m)\u001b[0m \u001b[1;33m-\u001b[0m \u001b[1;36m100\u001b[0m\u001b[1;33m\u001b[0m\u001b[0m\n\u001b[0m\u001b[1;32m      6\u001b[0m \u001b[0mex_len\u001b[0m \u001b[1;33m=\u001b[0m \u001b[1;36m2366\u001b[0m\u001b[1;33m\u001b[0m\u001b[0m\n\u001b[1;32m      7\u001b[0m \u001b[0mX\u001b[0m \u001b[1;33m=\u001b[0m \u001b[0mnp\u001b[0m\u001b[1;33m.\u001b[0m\u001b[0marray\u001b[0m\u001b[1;33m(\u001b[0m\u001b[0mnp\u001b[0m\u001b[1;33m.\u001b[0m\u001b[0mzeros\u001b[0m\u001b[1;33m(\u001b[0m\u001b[1;33m(\u001b[0m\u001b[0mexamples\u001b[0m\u001b[1;33m,\u001b[0m \u001b[0mex_len\u001b[0m\u001b[1;33m)\u001b[0m\u001b[1;33m)\u001b[0m\u001b[1;33m)\u001b[0m\u001b[1;33m\u001b[0m\u001b[0m\n",
      "\u001b[0;31mNameError\u001b[0m: name 'train' is not defined"
     ]
    }
   ],
   "source": [
    "# temp = np.concatenate((profiles_1h[train[0][0]], artists_1h[train[0][1]]))\n",
    "# print temp\n",
    "# X = np.array(temp)\n",
    "# Y = np.array(train[0][1])\n",
    "examples = len(train) - 100\n",
    "ex_len = 2366\n",
    "X = np.array(np.zeros((examples, ex_len)))\n",
    "Y = np.array(np.zeros(examples))\n",
    "count = 0\n",
    "for t in train[:examples]:\n",
    "    temp = np.concatenate((profiles_1h[t[0]], artists_1h[t[1]]))\n",
    "#     print X.shape\n",
    "#     print temp.shape\n",
    "    X[count] = temp\n",
    "    Y[count] = int(t[2])\n",
    "    if count % 1000 == 0:\n",
    "        print count\n",
    "    count += 1\n",
    "print X\n",
    "print Y.shape"
   ]
  },
  {
   "cell_type": "code",
   "execution_count": 86,
   "metadata": {
    "collapsed": false,
    "deletable": true,
    "editable": true
   },
   "outputs": [
    {
     "name": "stdout",
     "output_type": "stream",
     "text": [
      "0\n",
      "[[ 1.  0.  0. ...,  0.  0.  0.]\n",
      " [ 0.  1.  0. ...,  0.  0.  0.]\n",
      " [ 0.  1.  0. ...,  0.  0.  0.]\n",
      " ..., \n",
      " [ 0.  1.  0. ...,  0.  0.  0.]\n",
      " [ 0.  1.  0. ...,  0.  0.  0.]\n",
      " [ 0.  1.  0. ...,  0.  0.  0.]]\n",
      "(100,)\n"
     ]
    }
   ],
   "source": [
    "cv_examples = 100\n",
    "cv_ex_len = 2366\n",
    "X_cv = np.array(np.zeros((cv_examples, cv_ex_len)))\n",
    "Y_cv = np.array(np.zeros(cv_examples))\n",
    "count = 0\n",
    "for t in train[examples : examples + cv_examples]:\n",
    "    temp = np.concatenate((profiles_1h[t[0]], artists_1h[t[1]]))\n",
    "#     print X.shape\n",
    "#     print temp.shape\n",
    "    X_cv[count] = temp\n",
    "    Y_cv[count] = int(t[2])\n",
    "    if count % 1000 == 0:\n",
    "        print count\n",
    "    count += 1\n",
    "print X_cv\n",
    "print Y_cv.shape"
   ]
  },
  {
   "cell_type": "code",
   "execution_count": 87,
   "metadata": {
    "collapsed": false,
    "deletable": true,
    "editable": true
   },
   "outputs": [
    {
     "name": "stdout",
     "output_type": "stream",
     "text": [
      "311.747231636 652.0\n",
      "781.551933301 16.0\n",
      "515.197314709 51.0\n",
      "119.813371815 247.0\n",
      "126.810742141 135.0\n",
      "187.417089997 380.0\n",
      "749.36984853 621.0\n",
      "391.481497748 690.0\n",
      "76.3992128789 15.0\n",
      "65.7395202735 150.0\n",
      "165.20506387 8.0\n",
      "134.627050256 84.0\n",
      "-97.0321321011 115.0\n",
      "454.413601781 192.0\n",
      "357.791414373 111.0\n",
      "260.849656346 168.0\n",
      "-190.29221911 253.0\n",
      "264.63767736 92.0\n",
      "117.423530622 1074.0\n",
      "-19.9807314789 27.0\n",
      "187.115096859 429.0\n",
      "167.841854468 178.0\n",
      "242.519994855 8.0\n",
      "355.655199676 1136.0\n",
      "745.967465782 237.0\n",
      "68.1152991427 97.0\n",
      "331.892303412 35.0\n",
      "-14.7067224792 51.0\n",
      "345.125058514 24.0\n",
      "75.3858731554 379.0\n",
      "666.10677251 114.0\n",
      "169.946397608 199.0\n",
      "325.858264207 11.0\n",
      "267.96100951 38.0\n",
      "309.498522386 100.0\n",
      "276.275011644 171.0\n",
      "555.16893633 3281.0\n",
      "706.043746935 191.0\n",
      "797.817479369 1185.0\n",
      "244.306852148 2.0\n",
      "423.110719522 21.0\n",
      "599.141959176 668.0\n",
      "36.5994940672 68.0\n",
      "286.265195927 91.0\n",
      "128.658465517 1186.0\n",
      "190.730982967 59.0\n",
      "219.528367689 116.0\n",
      "219.512645042 48.0\n",
      "672.362592317 189.0\n",
      "279.110577598 44.0\n",
      "35.0829212137 20.0\n",
      "74.2296064728 62.0\n",
      "91.7562914146 76.0\n",
      "57.8526519399 512.0\n",
      "7.50911614082 151.0\n",
      "640.863230719 93.0\n",
      "-29.2034783494 102.0\n",
      "224.342219287 119.0\n",
      "142.64788756 879.0\n",
      "234.42700125 4.0\n",
      "541.266727346 119.0\n",
      "193.520710062 6.0\n",
      "263.606145287 194.0\n",
      "220.965914936 1698.0\n",
      "35.1781220264 11.0\n",
      "756.188085199 91.0\n",
      "206.715109946 172.0\n",
      "332.609663766 46.0\n",
      "248.524978855 186.0\n",
      "172.782123053 146.0\n",
      "349.757701381 226.0\n",
      "217.041331793 285.0\n",
      "145.558169557 34.0\n",
      "822.594927136 139.0\n",
      "-13.9680842962 49.0\n",
      "316.569974415 76.0\n",
      "470.40519085 162.0\n",
      "99.8909301044 141.0\n",
      "88.000237649 72.0\n",
      "293.482685859 58.0\n",
      "61.2696786369 20.0\n",
      "135.76377046 98.0\n",
      "217.875161657 1507.0\n",
      "144.140556944 40.0\n",
      "349.311904631 443.0\n",
      "935.446710255 37.0\n",
      "259.801566816 186.0\n",
      "117.900612957 32.0\n",
      "470.146789835 178.0\n",
      "166.964029076 147.0\n",
      "193.099960889 178.0\n",
      "8.58289857983 123.0\n",
      "719.461662727 359.0\n",
      "156.719047526 20.0\n",
      "318.608498912 14.0\n",
      "530.462114179 250.0\n",
      "20.8486388474 256.0\n",
      "391.11395083 155.0\n",
      "305.50969778 153.0\n",
      "86.0641349959 572.0\n"
     ]
    }
   ],
   "source": [
    "NN = sklearn.neural_network.MLPRegressor()\n",
    "NN.fit(X, Y)\n",
    "preds = NN.predict(X_cv)\n",
    "error = preds - Y_cv\n",
    "for i in range(100):\n",
    "    print(str(preds[i]) + ' ' + str(Y_cv[i]))"
   ]
  },
  {
   "cell_type": "code",
   "execution_count": 88,
   "metadata": {
    "collapsed": false,
    "deletable": true,
    "editable": true
   },
   "outputs": [
    {
     "data": {
      "image/png": "[encoded data removed]",
      "text/plain": [
       "<matplotlib.figure.Figure at 0x11d869f10>"
      ]
     },
     "metadata": {},
     "output_type": "display_data"
    }
   ],
   "source": [
    "import matplotlib.pyplot as plt\n",
    "plt.plot(Y_cv, preds, '.')\n",
    "plt.xlim(0, 1000)\n",
    "plt.ylim(0, 1000)\n",
    "plt.show()"
   ]
  },
  {
   "cell_type": "code",
   "execution_count": null,
   "metadata": {
    "collapsed": true,
    "deletable": true,
    "editable": true
   },
   "outputs": [],
   "source": []
  }
 ],
 "metadata": {
  "kernelspec": {
   "display_name": "Python 2",
   "language": "python",
   "name": "python2"
  },
  "language_info": {
   "codemirror_mode": {
    "name": "ipython",
    "version": 2
   },
   "file_extension": ".py",
   "mimetype": "text/x-python",
   "name": "python",
   "nbconvert_exporter": "python",
   "pygments_lexer": "ipython2",
   "version": "2.7.12"
  }
 },
 "nbformat": 4,
 "nbformat_minor": 2
}
