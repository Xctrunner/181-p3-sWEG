{
 "cells": [
  {
   "cell_type": "code",
   "execution_count": 72,
   "metadata": {
    "collapsed": true
   },
   "outputs": [],
   "source": [
    "import numpy as np\n",
    "import csv"
   ]
  },
  {
   "cell_type": "code",
   "execution_count": 74,
   "metadata": {
    "collapsed": false
   },
   "outputs": [],
   "source": [
    "with open('data/train.csv', 'r') as fin:\n",
    "    tr_read = csv.reader(fin, delimiter=',', quotechar='\"')\n",
    "    next(tr_read, None)\n",
    "\n",
    "    with open('data/train_fixed.csv', 'w') as fout:\n",
    "        tr_wr = csv.writer(fout,\n",
    "                              delimiter=',',\n",
    "                              quotechar='\"',\n",
    "                              quoting=csv.QUOTE_MINIMAL)\n",
    "\n",
    "        for row in tr_read:\n",
    "            tr_wr.writerow(row)"
   ]
  },
  {
   "cell_type": "code",
   "execution_count": 141,
   "metadata": {
    "collapsed": false
   },
   "outputs": [
    {
     "name": "stdout",
     "output_type": "stream",
     "text": [
      "(4154804, 3)\n"
     ]
    }
   ],
   "source": [
    "train = np.loadtxt('data/train_fixed.csv', dtype='string', delimiter=',')\n",
    "artist_plays = {}\n",
    "user_plays = {}\n",
    "total = 0\n",
    "elt_list = []\n",
    "for t in train:\n",
    "    if t[1] in artist_plays:\n",
    "        artist_plays[t[1]].append(float(t[2]))\n",
    "    else:\n",
    "        artist_plays[t[1]] = [float(t[2])]\n",
    "    if t[0] in user_plays:\n",
    "        user_plays[t[0]].append(float(t[2]))\n",
    "    else:\n",
    "        user_plays[t[0]] = [float(t[2])]\n",
    "        total += float(t[2])\n",
    "    elt_list.append(float(t[2]))\n",
    "global_average = total / train.shape[0]\n",
    "elist = sorted(elt_list)\n",
    "global_median = elist[train.shape[0] / 2]\n",
    "print train.shape"
   ]
  },
  {
   "cell_type": "code",
   "execution_count": 32,
   "metadata": {
    "collapsed": false
   },
   "outputs": [],
   "source": [
    "def avg(lst):\n",
    "    return float(sum(lst)) / len(lst)\n",
    "\n",
    "def median(lst):\n",
    "    lst = sorted(lst)\n",
    "    length = len(lst)\n",
    "    if length % 2 == 0:\n",
    "        return (lst[length / 2] + lst[length / 2 - 1]) / float(2)\n",
    "    else:\n",
    "        return lst[length / 2]\n",
    "\n",
    "def get_means(d):\n",
    "    means = {}\n",
    "    for k in d:\n",
    "        means[k] = avg(d[k])\n",
    "    return means\n",
    "        \n",
    "def get_medians(d):\n",
    "    meds = {}\n",
    "    for k in d:\n",
    "        meds[k] = median(d[k])\n",
    "    return meds"
   ]
  },
  {
   "cell_type": "code",
   "execution_count": 142,
   "metadata": {
    "collapsed": false
   },
   "outputs": [],
   "source": [
    "a_mean = get_means(artist_plays)\n",
    "a_med = get_medians(artist_plays)"
   ]
  },
  {
   "cell_type": "code",
   "execution_count": 143,
   "metadata": {
    "collapsed": true
   },
   "outputs": [],
   "source": [
    "p_mean = get_means(user_plays)\n",
    "p_med = get_medians(user_plays)"
   ]
  },
  {
   "cell_type": "code",
   "execution_count": 35,
   "metadata": {
    "collapsed": true
   },
   "outputs": [],
   "source": [
    "def mse(Y, Y_cv):\n",
    "    diff = Y_cv - Y\n",
    "    d_sq = np.square(diff)\n",
    "    mse_res = np.mean(d_sq)\n",
    "    return mse_res"
   ]
  },
  {
   "cell_type": "code",
   "execution_count": 78,
   "metadata": {
    "collapsed": false
   },
   "outputs": [],
   "source": [
    "Y = []\n",
    "for t in train[-1000:]:\n",
    "    Y.append(float(t[2]))\n",
    "Y = np.array(Y)"
   ]
  },
  {
   "cell_type": "code",
   "execution_count": 104,
   "metadata": {
    "collapsed": false
   },
   "outputs": [
    {
     "name": "stdout",
     "output_type": "stream",
     "text": [
      "291214.790288\n"
     ]
    }
   ],
   "source": [
    "Y_cv_mean_a = []\n",
    "for t in train[-1000:]:\n",
    "    if t[1] in a_mean:\n",
    "        Y_cv_mean_a.append(a_mean[t[1]])\n",
    "    else:\n",
    "        Y_cv_mean_a.append(global_average)\n",
    "Y_cv_mean_a = np.array(Y_cv_mean_a)\n",
    "print mse(Y, Y_cv_mean_a)"
   ]
  },
  {
   "cell_type": "code",
   "execution_count": 105,
   "metadata": {
    "collapsed": false
   },
   "outputs": [
    {
     "name": "stdout",
     "output_type": "stream",
     "text": [
      "307826.4505\n"
     ]
    }
   ],
   "source": [
    "Y_cv_med_a = []\n",
    "for t in train[-1000:]:\n",
    "    if t[1] in a_mean:\n",
    "        Y_cv_med_a.append(a_med[t[1]])\n",
    "    else:\n",
    "        Y_cv_med_a.append(global_average)\n",
    "Y_cv_med_a = np.array(Y_cv_med_a)\n",
    "print mse(Y, Y_cv_med_a)"
   ]
  },
  {
   "cell_type": "code",
   "execution_count": 109,
   "metadata": {
    "collapsed": false
   },
   "outputs": [
    {
     "name": "stdout",
     "output_type": "stream",
     "text": [
      "168581.817977\n"
     ]
    }
   ],
   "source": [
    "Y_cv_mean_p = []\n",
    "for t in train[-1000:]:\n",
    "    if t[0] in p_mean:\n",
    "        Y_cv_mean_p.append(p_mean[t[0]])\n",
    "    else:\n",
    "        Y_cv_mean_p.append(global_average)\n",
    "Y_cv_mean_p = np.array(Y_cv_mean_p)\n",
    "print mse(Y, Y_cv_mean_p)"
   ]
  },
  {
   "cell_type": "code",
   "execution_count": 110,
   "metadata": {
    "collapsed": false
   },
   "outputs": [
    {
     "name": "stdout",
     "output_type": "stream",
     "text": [
      "175460.5\n"
     ]
    }
   ],
   "source": [
    "Y_cv_med_p = []\n",
    "for t in train[-1000:]:\n",
    "    if t[0] in p_mean:\n",
    "        Y_cv_med_p.append(p_med[t[0]])\n",
    "    else:\n",
    "        Y_cv_med_p.append(global_average)\n",
    "Y_cv_med_p = np.array(Y_cv_med_p)\n",
    "print mse(Y, Y_cv_med_p)"
   ]
  },
  {
   "cell_type": "code",
   "execution_count": 111,
   "metadata": {
    "collapsed": false
   },
   "outputs": [
    {
     "name": "stdout",
     "output_type": "stream",
     "text": [
      "168764.794277\n"
     ]
    }
   ],
   "source": [
    "Y_cv_mean_ap = []\n",
    "for t in train[-1000:]:\n",
    "    if t[1] in a_mean and t[0] in p_mean:\n",
    "        Y_cv_mean_ap.append(.95 * p_mean[t[0]] + .05 * a_mean[t[1]])\n",
    "    else:\n",
    "        Y_cv_mean_ap.append(global_average)\n",
    "Y_cv_mean_ap = np.array(Y_cv_mean_ap)\n",
    "print mse(Y, Y_cv_mean_ap)"
   ]
  },
  {
   "cell_type": "code",
   "execution_count": 116,
   "metadata": {
    "collapsed": false
   },
   "outputs": [
    {
     "name": "stdout",
     "output_type": "stream",
     "text": [
      "165047.464874\n"
     ]
    }
   ],
   "source": [
    "Y_cv_mean_med = []\n",
    "for t in train[-1000:]:\n",
    "    if t[1] in a_mean and t[0] in p_mean:\n",
    "        Y_cv_mean_med.append(.5 * p_mean[t[0]] + .5 * p_med[t[0]])\n",
    "    else:\n",
    "        Y_cv_mean_med.append(global_average)\n",
    "Y_cv_mean_med = np.array(Y_cv_mean_med)\n",
    "print mse(Y, Y_cv_mean_med)"
   ]
  },
  {
   "cell_type": "code",
   "execution_count": 119,
   "metadata": {
    "collapsed": false
   },
   "outputs": [
    {
     "name": "stdout",
     "output_type": "stream",
     "text": [
      "164638.544436\n"
     ]
    }
   ],
   "source": [
    "Y_cv_mean_med = []\n",
    "for t in train[-1000:]:\n",
    "    if t[1] in a_mean and t[0] in p_mean:\n",
    "        Y_cv_mean_med.append(.6 * p_mean[t[0]] + .4 * p_med[t[0]])\n",
    "    else:\n",
    "        Y_cv_mean_med.append(global_average)\n",
    "Y_cv_mean_med = np.array(Y_cv_mean_med)\n",
    "print mse(Y, Y_cv_mean_med)"
   ]
  },
  {
   "cell_type": "code",
   "execution_count": 117,
   "metadata": {
    "collapsed": false
   },
   "outputs": [
    {
     "name": "stdout",
     "output_type": "stream",
     "text": [
      "164787.519528\n"
     ]
    }
   ],
   "source": [
    "Y_cv_mean_med = []\n",
    "for t in train[-1000:]:\n",
    "    if t[1] in a_mean and t[0] in p_mean:\n",
    "        Y_cv_mean_med.append(.7 * p_mean[t[0]] + .3 * p_med[t[0]])\n",
    "    else:\n",
    "        Y_cv_mean_med.append(global_average)\n",
    "Y_cv_mean_med = np.array(Y_cv_mean_med)\n",
    "print mse(Y, Y_cv_mean_med)"
   ]
  },
  {
   "cell_type": "code",
   "execution_count": 120,
   "metadata": {
    "collapsed": false
   },
   "outputs": [
    {
     "name": "stdout",
     "output_type": "stream",
     "text": [
      "164638.544436\n"
     ]
    }
   ],
   "source": [
    "Y_cv_mean_med = []\n",
    "for t in train[-1000:]:\n",
    "    if t[1] in a_mean and t[0] in p_mean:\n",
    "        Y_cv_mean_med.append(.6 * p_mean[t[0]] + .4 * p_med[t[0]])\n",
    "    else:\n",
    "        Y_cv_mean_med.append(global_median)\n",
    "Y_cv_mean_med = np.array(Y_cv_mean_med)\n",
    "print mse(Y, Y_cv_mean_med)"
   ]
  },
  {
   "cell_type": "code",
   "execution_count": 124,
   "metadata": {
    "collapsed": false
   },
   "outputs": [
    {
     "name": "stdout",
     "output_type": "stream",
     "text": [
      "319896.852387\n"
     ]
    }
   ],
   "source": [
    "Y_cv_mean_med = []\n",
    "for t in train[-1000:]:\n",
    "    Y_cv_mean_med.append(.25 * global_average + .75 * global_median)\n",
    "Y_cv_mean_med = np.array(Y_cv_mean_med)\n",
    "print mse(Y, Y_cv_mean_med)"
   ]
  },
  {
   "cell_type": "code",
   "execution_count": 125,
   "metadata": {
    "collapsed": false
   },
   "outputs": [
    {
     "name": "stdout",
     "output_type": "stream",
     "text": [
      "315274.179499\n"
     ]
    }
   ],
   "source": [
    "Y_cv_mean_med = []\n",
    "for t in train[-1000:]:\n",
    "    Y_cv_mean_med.append(.1 * global_average + .9 * global_median)\n",
    "Y_cv_mean_med = np.array(Y_cv_mean_med)\n",
    "print mse(Y, Y_cv_mean_med)"
   ]
  },
  {
   "cell_type": "code",
   "execution_count": 121,
   "metadata": {
    "collapsed": false
   },
   "outputs": [
    {
     "name": "stdout",
     "output_type": "stream",
     "text": [
      "312461.872\n"
     ]
    }
   ],
   "source": [
    "Y_cv_mean_med = []\n",
    "for t in train[-1000:]:\n",
    "    Y_cv_mean_med.append(global_median)\n",
    "Y_cv_mean_med = np.array(Y_cv_mean_med)\n",
    "print mse(Y, Y_cv_mean_med)"
   ]
  },
  {
   "cell_type": "code",
   "execution_count": 133,
   "metadata": {
    "collapsed": false
   },
   "outputs": [
    {
     "name": "stdout",
     "output_type": "stream",
     "text": [
      "295602.352\n"
     ]
    }
   ],
   "source": [
    "Y_cv_mean_med = []\n",
    "for t in train[-1000:]:\n",
    "    Y_cv_mean_med.append(global_median + 120.0)\n",
    "Y_cv_mean_med = np.array(Y_cv_mean_med)\n",
    "print mse(Y, Y_cv_mean_med)"
   ]
  },
  {
   "cell_type": "code",
   "execution_count": 127,
   "metadata": {
    "collapsed": false
   },
   "outputs": [
    {
     "name": "stdout",
     "output_type": "stream",
     "text": [
      "296412.272\n"
     ]
    }
   ],
   "source": [
    "Y_cv_mean_med = []\n",
    "for t in train[-1000:]:\n",
    "    Y_cv_mean_med.append(global_median + 100.0)\n",
    "Y_cv_mean_med = np.array(Y_cv_mean_med)\n",
    "print mse(Y, Y_cv_mean_med)"
   ]
  },
  {
   "cell_type": "code",
   "execution_count": 131,
   "metadata": {
    "collapsed": false
   },
   "outputs": [
    {
     "name": "stdout",
     "output_type": "stream",
     "text": [
      "295887.472\n"
     ]
    }
   ],
   "source": [
    "Y_cv_mean_med = []\n",
    "for t in train[-1000:]:\n",
    "    Y_cv_mean_med.append(global_median + 150.0)\n",
    "Y_cv_mean_med = np.array(Y_cv_mean_med)\n",
    "print mse(Y, Y_cv_mean_med)"
   ]
  },
  {
   "cell_type": "code",
   "execution_count": 134,
   "metadata": {
    "collapsed": false
   },
   "outputs": [
    {
     "name": "stdout",
     "output_type": "stream",
     "text": [
      "164638.544436\n"
     ]
    }
   ],
   "source": [
    "Y_cv_mean_med = []\n",
    "for t in train[-1000:]:\n",
    "    if t[1] in a_mean and t[0] in p_mean:\n",
    "        Y_cv_mean_med.append(.6 * p_mean[t[0]] + .4 * p_med[t[0]])\n",
    "    else:\n",
    "        Y_cv_mean_med.append(global_median)\n",
    "Y_cv_mean_med = np.array(Y_cv_mean_med)\n",
    "print mse(Y, Y_cv_mean_med)"
   ]
  },
  {
   "cell_type": "code",
   "execution_count": 135,
   "metadata": {
    "collapsed": false
   },
   "outputs": [
    {
     "name": "stdout",
     "output_type": "stream",
     "text": [
      "164216.780055\n"
     ]
    }
   ],
   "source": [
    "Y_cv_mean_med = []\n",
    "for t in train[-1000:]:\n",
    "    if t[1] in a_mean and t[0] in p_mean:\n",
    "        Y_cv_mean_med.append(.6 * p_mean[t[0]] + .4 * p_med[t[0]] + 10.0)\n",
    "    else:\n",
    "        Y_cv_mean_med.append(global_median)\n",
    "Y_cv_mean_med = np.array(Y_cv_mean_med)\n",
    "print mse(Y, Y_cv_mean_med)"
   ]
  },
  {
   "cell_type": "code",
   "execution_count": 138,
   "metadata": {
    "collapsed": false
   },
   "outputs": [
    {
     "name": "stdout",
     "output_type": "stream",
     "text": [
      "163995.015675\n"
     ]
    }
   ],
   "source": [
    "Y_cv_mean_med = []\n",
    "for t in train[-1000:]:\n",
    "    if t[1] in a_mean and t[0] in p_mean:\n",
    "        Y_cv_mean_med.append(.6 * p_mean[t[0]] + .4 * p_med[t[0]] + 20.0)\n",
    "    else:\n",
    "        Y_cv_mean_med.append(global_median)\n",
    "Y_cv_mean_med = np.array(Y_cv_mean_med)\n",
    "print mse(Y, Y_cv_mean_med)"
   ]
  },
  {
   "cell_type": "code",
   "execution_count": 87,
   "metadata": {
    "collapsed": false
   },
   "outputs": [
    {
     "name": "stdout",
     "output_type": "stream",
     "text": [
      "(4154805, 3)\n"
     ]
    }
   ],
   "source": [
    "test = np.loadtxt('data/test.csv', dtype='string', delimiter=',')\n",
    "print test.shape"
   ]
  },
  {
   "cell_type": "code",
   "execution_count": 56,
   "metadata": {
    "collapsed": false
   },
   "outputs": [
    {
     "ename": "KeyError",
     "evalue": "'1'",
     "output_type": "error",
     "traceback": [
      "\u001b[0;31m---------------------------------------------------------------------------\u001b[0m",
      "\u001b[0;31mKeyError\u001b[0m                                  Traceback (most recent call last)",
      "\u001b[0;32m<ipython-input-56-66c08c4d7e7f>\u001b[0m in \u001b[0;36m<module>\u001b[0;34m()\u001b[0m\n\u001b[1;32m      1\u001b[0m \u001b[0mstupid\u001b[0m \u001b[0;34m=\u001b[0m \u001b[0;34m[\u001b[0m\u001b[0;34m]\u001b[0m\u001b[0;34m\u001b[0m\u001b[0m\n\u001b[1;32m      2\u001b[0m \u001b[0;32mfor\u001b[0m \u001b[0mt\u001b[0m \u001b[0;32min\u001b[0m \u001b[0mtest\u001b[0m\u001b[0;34m:\u001b[0m\u001b[0;34m\u001b[0m\u001b[0m\n\u001b[0;32m----> 3\u001b[0;31m     \u001b[0mstupid\u001b[0m\u001b[0;34m.\u001b[0m\u001b[0mappend\u001b[0m\u001b[0;34m(\u001b[0m\u001b[0;36m.7\u001b[0m \u001b[0;34m*\u001b[0m \u001b[0mp_mean\u001b[0m\u001b[0;34m[\u001b[0m\u001b[0mt\u001b[0m\u001b[0;34m[\u001b[0m\u001b[0;36m0\u001b[0m\u001b[0;34m]\u001b[0m\u001b[0;34m]\u001b[0m \u001b[0;34m+\u001b[0m \u001b[0;36m.3\u001b[0m \u001b[0;34m*\u001b[0m \u001b[0mp_med\u001b[0m\u001b[0;34m[\u001b[0m\u001b[0mt\u001b[0m\u001b[0;34m[\u001b[0m\u001b[0;36m0\u001b[0m\u001b[0;34m]\u001b[0m\u001b[0;34m]\u001b[0m\u001b[0;34m)\u001b[0m\u001b[0;34m\u001b[0m\u001b[0m\n\u001b[0m",
      "\u001b[0;31mKeyError\u001b[0m: '1'"
     ]
    }
   ],
   "source": [
    "stupid = []\n",
    "for t in test:\n",
    "    stupid.append(.7 * p_mean[t[0]] + .3 * p_med[t[0]])"
   ]
  },
  {
   "cell_type": "code",
   "execution_count": null,
   "metadata": {
    "collapsed": true
   },
   "outputs": [],
   "source": []
  },
  {
   "cell_type": "code",
   "execution_count": 144,
   "metadata": {
    "collapsed": false
   },
   "outputs": [],
   "source": [
    "import csv\n",
    "\n",
    "soln_file = 'data/stupid_fiddly.csv'\n",
    "\n",
    "with open('data/test.csv', 'r') as test_fh:\n",
    "    test_reader = csv.reader(test_fh, delimiter=',', quotechar='\"')\n",
    "    next(test_reader, None)\n",
    "    \n",
    "#     print test.shape\n",
    "\n",
    "    with open(soln_file, 'w') as soln_fh:\n",
    "        soln_csv = csv.writer(soln_fh,\n",
    "                              delimiter=',',\n",
    "                              quotechar='\"',\n",
    "                              quoting=csv.QUOTE_MINIMAL)\n",
    "        soln_csv.writerow(['Id', 'plays'])\n",
    "\n",
    "        for row in test_reader:\n",
    "            id     = row[0]\n",
    "            user   = row[1]\n",
    "    #         artist = row[2]\n",
    "\n",
    "            if user in p_mean:\n",
    "                soln_csv.writerow([id, .6 * p_mean[user] + .4 * p_med[user] + 20.0])\n",
    "            else:\n",
    "    #             print \"User\", id, \"not in training data.\"\n",
    "                soln_csv.writerow([id, global_median + 120.0])"
   ]
  },
  {
   "cell_type": "code",
   "execution_count": null,
   "metadata": {
    "collapsed": true
   },
   "outputs": [],
   "source": []
  }
 ],
 "metadata": {
  "kernelspec": {
   "display_name": "Python 2",
   "language": "python",
   "name": "python2"
  },
  "language_info": {
   "codemirror_mode": {
    "name": "ipython",
    "version": 2
   },
   "file_extension": ".py",
   "mimetype": "text/x-python",
   "name": "python",
   "nbconvert_exporter": "python",
   "pygments_lexer": "ipython2",
   "version": "2.7.12"
  }
 },
 "nbformat": 4,
 "nbformat_minor": 2
}
